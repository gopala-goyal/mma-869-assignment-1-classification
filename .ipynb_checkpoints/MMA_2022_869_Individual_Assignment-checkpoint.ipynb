{
 "cells": [
  {
   "cell_type": "markdown",
   "metadata": {
    "id": "HKmorPdno_n_"
   },
   "source": [
    "# MMA 869: Individual Assignment\n",
    "\n",
    "Version 1: Updated September 27, 2021\n",
    "\n",
    "- Gopala Goyal\n",
    "- 20254605\n",
    "- Section - 2\n",
    "- Not an avid reader\n",
    "- October 21, 2021"
   ]
  },
  {
   "cell_type": "markdown",
   "metadata": {
    "id": "emfFtv4aHBI1"
   },
   "source": [
    "# Assignment Instructions\n",
    "\n",
    "This assignment contains four questions. The questions are fully contained in this Google Colab Notebook. \n",
    "\n",
    "You are to make a copy of this Notebook and edit the copy to provide your answers. You are to complete the assignment entirely within Google Colab. Why?\n",
    "\n",
    "- It gives you practice using cloud-based interactive notebook environments (which is a popular workflow)\n",
    "- It is easier for you to manage the environment (e.g., installing packages, etc.)\n",
    "- Google Colab has nice, beefy machines, so you don't have to worry about running out of memory on your local computer.\n",
    "- It will be easier for the TA to help you debug your code if you need help\n",
    "- It will be easier for the TA to mark/run your code\n",
    "\n",
    "Some parts of this assigment require you to write code. Use Python. You may use standard Python libraries, including `scikit-learn`, `pandas`, `numpy`, and scipy`.\n",
    "\n",
    "Some parts of this assignment require text responses. In these cases, type your response in the Notebook cell indicated. Use English. Use proper grammar, spelling, and punctuation. Be professional and clear. Be complete, but not overly-verbose. Feel free to use [Markdown syntax](https://www.markdownguide.org/basic-syntax/) to format your answer (i.e., add bold, italics, lists, tables).\n",
    "\n",
    "## What to Submit to the Course Portal\n",
    "\n",
    "- Export your completed Notebook as a PDF file by clicking File->Print->Save as PDF.\n",
    "- Please do not submit the Notebook file (`.ipynb`) to the course portal. \n",
    "- Please submit the PDF export of the Notebook. \n",
    "   - Please name the PDF file `2022_869_FirstnameLastName.pdf`\n",
    "      - E.g., `2022_869_StephenThomas.pdf`\n",
    "   - Please make sure you have run all the cells so we can see the output!\n",
    "   - Best practice: Before exporting to PDF click Runtime->Restart and run all.\n",
    "\n"
   ]
  },
  {
   "cell_type": "markdown",
   "metadata": {
    "id": "oZFTCX4DqmRO"
   },
   "source": [
    "# Preliminaries: Inspect and Set up environment\n",
    "\n",
    "No action is required on your part in this section. These cells print out helpful information about the environment, just in case."
   ]
  },
  {
   "cell_type": "code",
   "execution_count": 59,
   "metadata": {
    "id": "xj34Jz-Do_oK"
   },
   "outputs": [],
   "source": [
    "import datetime\n",
    "import pandas as pd\n",
    "import numpy as np\n",
    "np.set_printoptions(precision=2, suppress = True) \n",
    "import matplotlib.pyplot as plt\n",
    "from pandas.plotting import parallel_coordinates\n",
    "import seaborn as sns\n",
    "from sklearn.metrics import silhouette_score, silhouette_samples\n",
    "from sklearn.preprocessing import StandardScaler\n",
    "from sklearn.cluster import KMeans\n",
    "from sklearn.linear_model import LogisticRegression\n",
    "from sklearn.model_selection import KFold\n",
    "from sklearn.model_selection import cross_val_score, cross_validate\n",
    "from sklearn.metrics import make_scorer, accuracy_score, precision_score, recall_score, f1_score\n",
    "from sklearn.preprocessing import PolynomialFeatures"
   ]
  },
  {
   "cell_type": "code",
   "execution_count": 11,
   "metadata": {
    "colab": {
     "base_uri": "https://localhost:8080/"
    },
    "id": "mqQ_XOKyXTS6",
    "outputId": "87cd4968-41ff-410f-82e6-998a51f92e8a"
   },
   "outputs": [
    {
     "name": "stdout",
     "output_type": "stream",
     "text": [
      "2021-12-06 13:58:59.170067\n"
     ]
    }
   ],
   "source": [
    "print(datetime.datetime.now())"
   ]
  },
  {
   "cell_type": "code",
   "execution_count": 4,
   "metadata": {
    "colab": {
     "base_uri": "https://localhost:8080/"
    },
    "id": "LfOMt1lErLhZ",
    "outputId": "32978a1c-80f5-4f47-e308-e1097f9d797a"
   },
   "outputs": [
    {
     "name": "stdout",
     "output_type": "stream",
     "text": [
      "/Users/apple/anaconda3/bin/python\r\n"
     ]
    }
   ],
   "source": [
    "!which python"
   ]
  },
  {
   "cell_type": "code",
   "execution_count": 5,
   "metadata": {
    "colab": {
     "base_uri": "https://localhost:8080/"
    },
    "id": "aub2w1-arM5K",
    "outputId": "f00c7a88-117f-4e5d-841d-bdec67a7847d"
   },
   "outputs": [
    {
     "name": "stdout",
     "output_type": "stream",
     "text": [
      "Python 3.7.7\r\n"
     ]
    }
   ],
   "source": [
    "!python --version"
   ]
  },
  {
   "cell_type": "code",
   "execution_count": 6,
   "metadata": {
    "colab": {
     "base_uri": "https://localhost:8080/"
    },
    "id": "E9Y_n_8UrO9i",
    "outputId": "47f43ec0-1929-4cac-bb1f-2f890e792b9b"
   },
   "outputs": [
    {
     "name": "stdout",
     "output_type": "stream",
     "text": [
      "\r\n"
     ]
    }
   ],
   "source": [
    "!echo $PYTHONPATH"
   ]
  },
  {
   "cell_type": "code",
   "execution_count": null,
   "metadata": {
    "id": "-qyD7Jl0Gw1E"
   },
   "outputs": [],
   "source": [
    "# TODO: install any packages you need to here. For example:\n",
    "#pip install unidecode"
   ]
  },
  {
   "cell_type": "markdown",
   "metadata": {
    "id": "RLlBjIyS2o54"
   },
   "source": [
    "# Question 1: Uncle Steve's Diamonds"
   ]
  },
  {
   "cell_type": "markdown",
   "metadata": {
    "id": "qj1NSQelo_oN"
   },
   "source": [
    "## Instructions\n",
    "\n",
    "You work at a local jewelry store named *Uncle Steve's Diamonds*. You started as a janitor, but you’ve recently been promoted to senior data analyst! Congratulations.\n",
    "\n",
    "Uncle Steve, the store's owner, needs to better understand the store's customers. In particular, he wants to know what kind of customers shop at the store. He wants to know the main types of *customer personas*. Once he knows these, he will contemplate ways to better market to each persona, better satisfy each persona, better cater to each persona, increase the loyalty of each persona, etc. But first, he must know the personas.\n",
    "\n",
    "You want to help Uncle Steve. Using sneaky magic (and the help of Environics), you've collected four useful features for a subset of the customers: age, income, spending score (i.e., a score based on how much they’ve spent at the store in total), and savings (i.e., how much money they have in their personal bank account). \n",
    "\n",
    "**Your tasks**\n",
    "\n",
    "1. Pick a clustering algorithm (the [`sklearn.cluster`](https://scikit-learn.org/stable/modules/classes.html#module-sklearn.cluster) module has many good choices, including [`KMeans`](https://scikit-learn.org/stable/modules/generated/sklearn.cluster.KMeans.html#sklearn.cluster.KMeans), [`DBSCAN`](https://scikit-learn.org/stable/modules/generated/sklearn.cluster.DBSCAN.html#sklearn.cluster.DBSCAN), and [`AgglomerativeClustering`](https://scikit-learn.org/stable/modules/generated/sklearn.cluster.AgglomerativeClustering.html#sklearn.cluster.AgglomerativeClustering) (aka Hierarchical). (Note that another popular implementation of the hierarchical algorithm can be found in SciPy's [`scipy.cluster.hierarchy.linkage`](https://docs.scipy.org/doc/scipy/reference/generated/scipy.cluster.hierarchy.linkage.html).) Don't spend a lot of time thinking about which algorithm to choose - just pick one. Cluster the customers as best as you can, within reason. That is, try different feature preprocessing steps, hyperparameter values, and/or distance metrics. You don't need to try every single posssible combination, but try a few at least. Measure how good each  model configuration is by calculating an internal validation metric (e.g., [`calinski_harabasz_score`](https://scikit-learn.org/stable/modules/generated/sklearn.metrics.calinski_harabasz_score.html) or [`silhouette_score`](https://scikit-learn.org/stable/modules/generated/sklearn.metrics.silhouette_score.html#sklearn.metrics.silhouette_score)).\n",
    "2. You have some doubts - you're not sure if the algorithm you chose in part 1 is the best algorithm for this dataset/problem. Neither is Uncle Steve. So, choose a different algorithm (any!) and do it all again.\n",
    "3. Which clustering algorithm is \"better\" in this case? Think about charateristics of the algorithm like quality of results, ease of use, speed, interpretability, etc. Choose a winner and justify to Uncle Steve.\n",
    "4. Interpret the clusters of the winning model. That is, describe, in words, a *persona* that accurately depicts each cluster. Use statistics (e.g., cluster means/distributions), examples (e.g., exemplar instances from each cluster), and/or visualizations (e.g., relative importance plots, snakeplots) to get started. Human judgement and creativity will be necessary. This is where it all comes together. Be descripive and *help Uncle Steve understand his customers better*. Please!\n",
    "\n",
    "**Marking**\n",
    "\n",
    "The coding parts (i.e., 1 and 2) will be marked based on:\n",
    "\n",
    "- *Correctness*. Code clearly and fully performs the task specified.\n",
    "- *Reproducibility*. Code is fully reproducible. I.e., you (and I) are able to run this Notebook again and again, from top to bottom, and get the same results each time.\n",
    "- *Style*. Code is organized. All parts commented with clear reasoning and rationale. No old code laying around. Code easy to follow.\n",
    "\n",
    "\n",
    "Parts 3 and 4 will be marked on:\n",
    "\n",
    "- *Quality*. Response is well-justified and convincing. Responses uses facts and data where possible.\n",
    "- *Style*. Response uses proper grammar, spelling, and punctuation. Response is clear and professional. Response is complete, but not overly-verbose. Response follows length guidelines.\n",
    "\n",
    "\n",
    "**Tips**\n",
    "\n",
    "- Since clustering is an unsupervised ML technique, you don't need to split the data into training/validation/test or anything like that. Phew!\n",
    "- On the flip side, since clustering is unsupervised, you will never know the \"true\" clusters, and so you will never know if a given algorithm is \"correct.\" There really is no notion of \"correctness\" - only \"usefullness.\"\n",
    "- Many online clustering tutorials (including some from Uncle Steve) create flashy visualizations of the clusters by plotting the instances on a 2-D graph and coloring each point by the cluster ID. This is really nice and all, but it can only work if your dataset only has exactly two features - no more, no less. This dataset has more than two features, so you cannot use this technique. (But that's OK - you don't need to use this technique.) \n",
    "- Must you use all four features in the clustering? Not necessarily, no. But \"throwing away\" quality data, for no reason, is unlikely to improve a model.\n",
    "- Some people have success applying a dimensionality reduction technique (like [`sklearn.decomposition.PCA`](https://scikit-learn.org/stable/modules/generated/sklearn.decomposition.PCA.html)) to the features before clustering. You may do this if you wish, although it may not be as helpful in this case because there are only four features to begin with.\n",
    "- If you apply a transformation (e.g., [`MinMaxScaler`](https://scikit-learn.org/stable/modules/generated/sklearn.preprocessing.MinMaxScaler.html) or [`StandardScaler`](https://scikit-learn.org/stable/modules/generated/sklearn.preprocessing.StandardScaler.html#sklearn.preprocessing.StandardScaler)) to the features before clustering, you may have difficulty interpretting the means of the clusters (e.g., what is a mean Age of 0.2234??). There are two options to fix this: first, you can always reverse a transformation with the `inverse_transform` method. Second, you can just use the original dataset (i.e., before any prepropoceesing) during the interpreation step.\n",
    "- You cannot change the distance metric for K-Means. (This is for theoretical reasons: K-Means only works/makes sense with Euclidean distance.\n"
   ]
  },
  {
   "cell_type": "markdown",
   "metadata": {
    "id": "Yww0-vtpOw7z"
   },
   "source": [
    "## 1.0: Load data "
   ]
  },
  {
   "cell_type": "code",
   "execution_count": 4,
   "metadata": {
    "colab": {
     "base_uri": "https://localhost:8080/"
    },
    "id": "qVWx2c-DhQYo",
    "outputId": "952618fe-1e32-4cbc-b98a-b72110b42373"
   },
   "outputs": [
    {
     "name": "stdout",
     "output_type": "stream",
     "text": [
      "<class 'pandas.core.frame.DataFrame'>\n",
      "RangeIndex: 505 entries, 0 to 504\n",
      "Data columns (total 4 columns):\n",
      " #   Column         Non-Null Count  Dtype  \n",
      "---  ------         --------------  -----  \n",
      " 0   Age            505 non-null    int64  \n",
      " 1   Income         505 non-null    int64  \n",
      " 2   SpendingScore  505 non-null    float64\n",
      " 3   Savings        505 non-null    float64\n",
      "dtypes: float64(2), int64(2)\n",
      "memory usage: 15.9 KB\n"
     ]
    }
   ],
   "source": [
    "# DO NOT MODIFY THIS CELL\n",
    "df1 = pd.read_csv(\"https://drive.google.com/uc?export=download&id=1thHDCwQK3GijytoSSZNekAsItN_FGHtm\")\n",
    "df1.info()"
   ]
  },
  {
   "cell_type": "code",
   "execution_count": 12,
   "metadata": {},
   "outputs": [
    {
     "data": {
      "text/plain": [
       "Age              0\n",
       "Income           0\n",
       "SpendingScore    0\n",
       "Savings          0\n",
       "dtype: int64"
      ]
     },
     "execution_count": 12,
     "metadata": {},
     "output_type": "execute_result"
    }
   ],
   "source": [
    "df1.isna().sum()"
   ]
  },
  {
   "cell_type": "code",
   "execution_count": 66,
   "metadata": {},
   "outputs": [
    {
     "data": {
      "text/html": [
       "<div>\n",
       "<style scoped>\n",
       "    .dataframe tbody tr th:only-of-type {\n",
       "        vertical-align: middle;\n",
       "    }\n",
       "\n",
       "    .dataframe tbody tr th {\n",
       "        vertical-align: top;\n",
       "    }\n",
       "\n",
       "    .dataframe thead th {\n",
       "        text-align: right;\n",
       "    }\n",
       "</style>\n",
       "<table border=\"1\" class=\"dataframe\">\n",
       "  <thead>\n",
       "    <tr style=\"text-align: right;\">\n",
       "      <th></th>\n",
       "      <th>Age</th>\n",
       "      <th>Income</th>\n",
       "      <th>SpendingScore</th>\n",
       "      <th>Savings</th>\n",
       "    </tr>\n",
       "  </thead>\n",
       "  <tbody>\n",
       "    <tr>\n",
       "      <th>count</th>\n",
       "      <td>505.000000</td>\n",
       "      <td>505.000000</td>\n",
       "      <td>505.000000</td>\n",
       "      <td>505.000000</td>\n",
       "    </tr>\n",
       "    <tr>\n",
       "      <th>mean</th>\n",
       "      <td>59.019802</td>\n",
       "      <td>75513.291089</td>\n",
       "      <td>0.505083</td>\n",
       "      <td>11862.455867</td>\n",
       "    </tr>\n",
       "    <tr>\n",
       "      <th>std</th>\n",
       "      <td>24.140043</td>\n",
       "      <td>35992.922184</td>\n",
       "      <td>0.259634</td>\n",
       "      <td>4949.229253</td>\n",
       "    </tr>\n",
       "    <tr>\n",
       "      <th>min</th>\n",
       "      <td>17.000000</td>\n",
       "      <td>12000.000000</td>\n",
       "      <td>0.000000</td>\n",
       "      <td>0.000000</td>\n",
       "    </tr>\n",
       "    <tr>\n",
       "      <th>25%</th>\n",
       "      <td>34.000000</td>\n",
       "      <td>34529.000000</td>\n",
       "      <td>0.304792</td>\n",
       "      <td>6828.709702</td>\n",
       "    </tr>\n",
       "    <tr>\n",
       "      <th>50%</th>\n",
       "      <td>59.000000</td>\n",
       "      <td>75078.000000</td>\n",
       "      <td>0.368215</td>\n",
       "      <td>14209.932802</td>\n",
       "    </tr>\n",
       "    <tr>\n",
       "      <th>75%</th>\n",
       "      <td>85.000000</td>\n",
       "      <td>107100.000000</td>\n",
       "      <td>0.768279</td>\n",
       "      <td>16047.268331</td>\n",
       "    </tr>\n",
       "    <tr>\n",
       "      <th>max</th>\n",
       "      <td>97.000000</td>\n",
       "      <td>142000.000000</td>\n",
       "      <td>1.000000</td>\n",
       "      <td>20000.000000</td>\n",
       "    </tr>\n",
       "  </tbody>\n",
       "</table>\n",
       "</div>"
      ],
      "text/plain": [
       "              Age         Income  SpendingScore       Savings\n",
       "count  505.000000     505.000000     505.000000    505.000000\n",
       "mean    59.019802   75513.291089       0.505083  11862.455867\n",
       "std     24.140043   35992.922184       0.259634   4949.229253\n",
       "min     17.000000   12000.000000       0.000000      0.000000\n",
       "25%     34.000000   34529.000000       0.304792   6828.709702\n",
       "50%     59.000000   75078.000000       0.368215  14209.932802\n",
       "75%     85.000000  107100.000000       0.768279  16047.268331\n",
       "max     97.000000  142000.000000       1.000000  20000.000000"
      ]
     },
     "execution_count": 66,
     "metadata": {},
     "output_type": "execute_result"
    }
   ],
   "source": [
    "df1.describe()"
   ]
  },
  {
   "cell_type": "markdown",
   "metadata": {
    "id": "R04NzckZKbG2"
   },
   "source": [
    "## 1.1: Clustering Algorithm #1 - KMeans"
   ]
  },
  {
   "cell_type": "code",
   "execution_count": 9,
   "metadata": {},
   "outputs": [
    {
     "data": {
      "text/plain": [
       "<seaborn.axisgrid.PairGrid at 0x10ae09a90>"
      ]
     },
     "execution_count": 9,
     "metadata": {},
     "output_type": "execute_result"
    },
    {
     "data": {
      "image/png": "[encoded data removed]",
      "text/plain": [
       "<Figure size 720x720 with 20 Axes>"
      ]
     },
     "metadata": {
      "needs_background": "light"
     },
     "output_type": "display_data"
    }
   ],
   "source": [
    "#Plot the scatterplots for every combination of features to determine the right number of clusters\n",
    "sns.pairplot(df1)"
   ]
  },
  {
   "cell_type": "markdown",
   "metadata": {},
   "source": [
    "> To measure the customer persona, selecting the customer age and income to start with."
   ]
  },
  {
   "cell_type": "code",
   "execution_count": 10,
   "metadata": {},
   "outputs": [
    {
     "data": {
      "text/html": [
       "<div>\n",
       "<style scoped>\n",
       "    .dataframe tbody tr th:only-of-type {\n",
       "        vertical-align: middle;\n",
       "    }\n",
       "\n",
       "    .dataframe tbody tr th {\n",
       "        vertical-align: top;\n",
       "    }\n",
       "\n",
       "    .dataframe thead th {\n",
       "        text-align: right;\n",
       "    }\n",
       "</style>\n",
       "<table border=\"1\" class=\"dataframe\">\n",
       "  <thead>\n",
       "    <tr style=\"text-align: right;\">\n",
       "      <th></th>\n",
       "      <th>Age</th>\n",
       "      <th>Income</th>\n",
       "    </tr>\n",
       "  </thead>\n",
       "  <tbody>\n",
       "    <tr>\n",
       "      <th>0</th>\n",
       "      <td>58</td>\n",
       "      <td>77769</td>\n",
       "    </tr>\n",
       "    <tr>\n",
       "      <th>1</th>\n",
       "      <td>59</td>\n",
       "      <td>81799</td>\n",
       "    </tr>\n",
       "    <tr>\n",
       "      <th>2</th>\n",
       "      <td>62</td>\n",
       "      <td>74751</td>\n",
       "    </tr>\n",
       "    <tr>\n",
       "      <th>3</th>\n",
       "      <td>59</td>\n",
       "      <td>74373</td>\n",
       "    </tr>\n",
       "    <tr>\n",
       "      <th>4</th>\n",
       "      <td>87</td>\n",
       "      <td>17760</td>\n",
       "    </tr>\n",
       "    <tr>\n",
       "      <th>...</th>\n",
       "      <td>...</td>\n",
       "      <td>...</td>\n",
       "    </tr>\n",
       "    <tr>\n",
       "      <th>500</th>\n",
       "      <td>28</td>\n",
       "      <td>101206</td>\n",
       "    </tr>\n",
       "    <tr>\n",
       "      <th>501</th>\n",
       "      <td>93</td>\n",
       "      <td>19934</td>\n",
       "    </tr>\n",
       "    <tr>\n",
       "      <th>502</th>\n",
       "      <td>90</td>\n",
       "      <td>35297</td>\n",
       "    </tr>\n",
       "    <tr>\n",
       "      <th>503</th>\n",
       "      <td>91</td>\n",
       "      <td>20681</td>\n",
       "    </tr>\n",
       "    <tr>\n",
       "      <th>504</th>\n",
       "      <td>89</td>\n",
       "      <td>30267</td>\n",
       "    </tr>\n",
       "  </tbody>\n",
       "</table>\n",
       "<p>505 rows × 2 columns</p>\n",
       "</div>"
      ],
      "text/plain": [
       "     Age  Income\n",
       "0     58   77769\n",
       "1     59   81799\n",
       "2     62   74751\n",
       "3     59   74373\n",
       "4     87   17760\n",
       "..   ...     ...\n",
       "500   28  101206\n",
       "501   93   19934\n",
       "502   90   35297\n",
       "503   91   20681\n",
       "504   89   30267\n",
       "\n",
       "[505 rows x 2 columns]"
      ]
     },
     "execution_count": 10,
     "metadata": {},
     "output_type": "execute_result"
    }
   ],
   "source": [
    "subset_df1 = df1.iloc[:,0:2]\n",
    "subset_df1"
   ]
  },
  {
   "cell_type": "code",
   "execution_count": 5,
   "metadata": {},
   "outputs": [],
   "source": [
    "#Function to perform Elbow method plots\n",
    "def elbow_plt(dataframe):\n",
    "    wcss=[]\n",
    "    for i in range(1,10):\n",
    "        kmeans = KMeans(n_clusters = i,init = 'k-means++',  random_state = 42)\n",
    "        kmeans.fit(dataframe)\n",
    "        wcss.append(kmeans.inertia_)\n",
    "\n",
    "    number_clusters = range(1,10)\n",
    "    plt.plot(number_clusters,wcss)\n",
    "    plt.title('The Elbow title')\n",
    "    plt.xlabel('Number of clusters')\n",
    "    plt.ylabel('Within Cluster Sum Square')\n",
    "\n",
    "def silhouette_plt(dataframe):\n",
    "    sil = []\n",
    "    for i in range(2,10):\n",
    "        kmeans = KMeans(n_clusters = i)\n",
    "        kmeans.fit(dataframe)\n",
    "        sil.append(silhouette_score(dataframe, kmeans.labels_, metric = 'euclidean'))\n",
    "        print(sil)\n",
    "    \n",
    "    number_clusters = range(2,10)\n",
    "    plt.plot(number_clusters,sil)\n",
    "    plt.title('The Elbow title')\n",
    "    plt.xlabel('K')\n",
    "    plt.ylabel('Silhoutte Score')"
   ]
  },
  {
   "cell_type": "code",
   "execution_count": 38,
   "metadata": {},
   "outputs": [],
   "source": [
    "palette = sns.color_palette(\"bright\", 10)\n",
    "def display_parallel_coordinates(df, num_clusters):\n",
    "    '''Display a parallel coordinates plot for the clusters in df'''\n",
    "\n",
    "    # Select data points for individual clusters\n",
    "    cluster_points = []\n",
    "    for i in range(num_clusters):\n",
    "        cluster_points.append(df[df.cluster==i])\n",
    "    \n",
    "    # Create the plot\n",
    "    fig = plt.figure(figsize=(12, 15))\n",
    "    title = fig.suptitle(\"Parallel Coordinates Plot for the Clusters\", fontsize=18)\n",
    "    fig.subplots_adjust(top=0.95, wspace=0)\n",
    "\n",
    "    # Display one plot for each cluster, with the lines for the main cluster appearing over the lines for the other clusters\n",
    "    for i in range(num_clusters):    \n",
    "        plt.subplot(num_clusters, 1, i+1)\n",
    "        for j,c in enumerate(cluster_points): \n",
    "            if i!= j:\n",
    "                pc = parallel_coordinates(c, 'cluster', color=[addAlpha(palette[j],0.2)])\n",
    "        pc = parallel_coordinates(cluster_points[i], 'cluster', color=[addAlpha(palette[i],0.5)])\n",
    "\n",
    "        # Stagger the axes\n",
    "        ax=plt.gca()\n",
    "        for tick in ax.xaxis.get_major_ticks()[1::2]:\n",
    "            tick.set_pad(20)        \n",
    "\n",
    "\n",
    "def display_parallel_coordinates_centroids(df, num_clusters):\n",
    "    '''Display a parallel coordinates plot for the centroids in df'''\n",
    "\n",
    "    # Create the plot\n",
    "    fig = plt.figure(figsize=(12, 5))\n",
    "    title = fig.suptitle(\"Parallel Coordinates plot for the Centroids\", fontsize=18)\n",
    "    fig.subplots_adjust(top=0.9, wspace=0)\n",
    "\n",
    "    # Draw the chart\n",
    "    parallel_coordinates(df, 'cluster', color=palette)\n",
    "\n",
    "    # Stagger the axes\n",
    "    ax=plt.gca()\n",
    "    for tick in ax.xaxis.get_major_ticks()[1::2]:\n",
    "        tick.set_pad(20)    "
   ]
  },
  {
   "cell_type": "code",
   "execution_count": 36,
   "metadata": {},
   "outputs": [],
   "source": [
    "def addAlpha(colour, alpha):\n",
    "    '''Add an alpha to the RGB colour'''\n",
    "    return (colour[0],colour[1],colour[2],alpha)"
   ]
  },
  {
   "cell_type": "code",
   "execution_count": 6,
   "metadata": {},
   "outputs": [
    {
     "data": {
      "image/png": "[encoded data removed]",
      "text/plain": [
       "<Figure size 432x288 with 1 Axes>"
      ]
     },
     "metadata": {
      "needs_background": "light"
     },
     "output_type": "display_data"
    }
   ],
   "source": [
    "#Original Dataframe Elbow Method - Intertia\n",
    "elbow_plt(df1)"
   ]
  },
  {
   "cell_type": "code",
   "execution_count": 7,
   "metadata": {
    "scrolled": true
   },
   "outputs": [
    {
     "name": "stdout",
     "output_type": "stream",
     "text": [
      "[0.6547312337772452]\n",
      "[0.6547312337772452, 0.7393168523275075]\n",
      "[0.6547312337772452, 0.7393168523275075, 0.7207226008574878]\n",
      "[0.6547312337772452, 0.7393168523275075, 0.7207226008574878, 0.6775729981884537]\n",
      "[0.6547312337772452, 0.7393168523275075, 0.7207226008574878, 0.6775729981884537, 0.5770561795755014]\n",
      "[0.6547312337772452, 0.7393168523275075, 0.7207226008574878, 0.6775729981884537, 0.5770561795755014, 0.517451507477851]\n",
      "[0.6547312337772452, 0.7393168523275075, 0.7207226008574878, 0.6775729981884537, 0.5770561795755014, 0.517451507477851, 0.51980361115202]\n",
      "[0.6547312337772452, 0.7393168523275075, 0.7207226008574878, 0.6775729981884537, 0.5770561795755014, 0.517451507477851, 0.51980361115202, 0.5249496712068124]\n"
     ]
    },
    {
     "data": {
      "image/png": "[encoded data removed]",
      "text/plain": [
       "<Figure size 432x288 with 1 Axes>"
      ]
     },
     "metadata": {
      "needs_background": "light"
     },
     "output_type": "display_data"
    }
   ],
   "source": [
    "#Original Dataframe Silhouette Score Plot\n",
    "silhouette_plt(df1)"
   ]
  },
  {
   "cell_type": "code",
   "execution_count": 8,
   "metadata": {},
   "outputs": [
    {
     "data": {
      "text/html": [
       "<div>\n",
       "<style scoped>\n",
       "    .dataframe tbody tr th:only-of-type {\n",
       "        vertical-align: middle;\n",
       "    }\n",
       "\n",
       "    .dataframe tbody tr th {\n",
       "        vertical-align: top;\n",
       "    }\n",
       "\n",
       "    .dataframe thead th {\n",
       "        text-align: right;\n",
       "    }\n",
       "</style>\n",
       "<table border=\"1\" class=\"dataframe\">\n",
       "  <thead>\n",
       "    <tr style=\"text-align: right;\">\n",
       "      <th></th>\n",
       "      <th>Age</th>\n",
       "      <th>Income</th>\n",
       "      <th>SpendingScore</th>\n",
       "      <th>Savings</th>\n",
       "    </tr>\n",
       "  </thead>\n",
       "  <tbody>\n",
       "    <tr>\n",
       "      <th>0</th>\n",
       "      <td>-0.042287</td>\n",
       "      <td>0.062733</td>\n",
       "      <td>1.103593</td>\n",
       "      <td>-1.072467</td>\n",
       "    </tr>\n",
       "    <tr>\n",
       "      <th>1</th>\n",
       "      <td>-0.000821</td>\n",
       "      <td>0.174811</td>\n",
       "      <td>1.102641</td>\n",
       "      <td>-1.303473</td>\n",
       "    </tr>\n",
       "    <tr>\n",
       "      <th>2</th>\n",
       "      <td>0.123577</td>\n",
       "      <td>-0.021200</td>\n",
       "      <td>0.761727</td>\n",
       "      <td>-0.526556</td>\n",
       "    </tr>\n",
       "    <tr>\n",
       "      <th>3</th>\n",
       "      <td>-0.000821</td>\n",
       "      <td>-0.031712</td>\n",
       "      <td>1.004705</td>\n",
       "      <td>-0.913395</td>\n",
       "    </tr>\n",
       "    <tr>\n",
       "      <th>4</th>\n",
       "      <td>1.160228</td>\n",
       "      <td>-1.606165</td>\n",
       "      <td>-0.602619</td>\n",
       "      <td>1.012686</td>\n",
       "    </tr>\n",
       "  </tbody>\n",
       "</table>\n",
       "</div>"
      ],
      "text/plain": [
       "        Age    Income  SpendingScore   Savings\n",
       "0 -0.042287  0.062733       1.103593 -1.072467\n",
       "1 -0.000821  0.174811       1.102641 -1.303473\n",
       "2  0.123577 -0.021200       0.761727 -0.526556\n",
       "3 -0.000821 -0.031712       1.004705 -0.913395\n",
       "4  1.160228 -1.606165      -0.602619  1.012686"
      ]
     },
     "execution_count": 8,
     "metadata": {},
     "output_type": "execute_result"
    }
   ],
   "source": [
    "#Perform scaling on dataset to apply KMeans\n",
    "scaled_df1 = df1.copy()\n",
    "scaler = StandardScaler()\n",
    "scaled_df1[scaled_df1.columns] = scaler.fit_transform(df1)\n",
    "scaled_df1.head()"
   ]
  },
  {
   "cell_type": "code",
   "execution_count": 9,
   "metadata": {},
   "outputs": [
    {
     "data": {
      "image/png": "[encoded data removed]",
      "text/plain": [
       "<Figure size 432x288 with 1 Axes>"
      ]
     },
     "metadata": {
      "needs_background": "light"
     },
     "output_type": "display_data"
    }
   ],
   "source": [
    "#Scaled Dataframe Elbow Method - Inertia\n",
    "elbow_plt(scaled_df1)"
   ]
  },
  {
   "cell_type": "code",
   "execution_count": 10,
   "metadata": {},
   "outputs": [
    {
     "name": "stdout",
     "output_type": "stream",
     "text": [
      "[0.5212589967674506]\n",
      "[0.5212589967674506, 0.6963481945884472]\n",
      "[0.5212589967674506, 0.6963481945884472, 0.7581191889903789]\n",
      "[0.5212589967674506, 0.6963481945884472, 0.7581191889903789, 0.8048976287755765]\n",
      "[0.5212589967674506, 0.6963481945884472, 0.7581191889903789, 0.8048976287755765, 0.6331809452561232]\n",
      "[0.5212589967674506, 0.6963481945884472, 0.7581191889903789, 0.8048976287755765, 0.6331809452561232, 0.44360111442508554]\n",
      "[0.5212589967674506, 0.6963481945884472, 0.7581191889903789, 0.8048976287755765, 0.6331809452561232, 0.44360111442508554, 0.29806320723958446]\n",
      "[0.5212589967674506, 0.6963481945884472, 0.7581191889903789, 0.8048976287755765, 0.6331809452561232, 0.44360111442508554, 0.29806320723958446, 0.29896168395106293]\n"
     ]
    },
    {
     "data": {
      "image/png": "[encoded data removed]",
      "text/plain": [
       "<Figure size 432x288 with 1 Axes>"
      ]
     },
     "metadata": {
      "needs_background": "light"
     },
     "output_type": "display_data"
    }
   ],
   "source": [
    "#Scaled Dataframe Silhouette Score Plot\n",
    "silhouette_plt(scaled_df1)"
   ]
  },
  {
   "cell_type": "code",
   "execution_count": 11,
   "metadata": {},
   "outputs": [
    {
     "data": {
      "text/plain": [
       "KMeans(n_clusters=5, random_state=42)"
      ]
     },
     "execution_count": 11,
     "metadata": {},
     "output_type": "execute_result"
    }
   ],
   "source": [
    "#Applying K means and performing clustering\n",
    "#Use Clusters as 5 on the basis of Elblow method\n",
    "kmeans_scaled = KMeans(init='k-means++', n_clusters=5, random_state=42)\n",
    "kmeans_scaled.fit(scaled_df1)"
   ]
  },
  {
   "cell_type": "code",
   "execution_count": 12,
   "metadata": {},
   "outputs": [
    {
     "data": {
      "text/plain": [
       "0.8048976287755765"
      ]
     },
     "execution_count": 12,
     "metadata": {},
     "output_type": "execute_result"
    }
   ],
   "source": [
    "#Evaluation - Silhouette Score\n",
    "silhouette_score(scaled_df1, kmeans_scaled.labels_)"
   ]
  },
  {
   "cell_type": "code",
   "execution_count": 13,
   "metadata": {},
   "outputs": [],
   "source": [
    "y = kmeans_scaled.predict(scaled_df1)"
   ]
  },
  {
   "cell_type": "code",
   "execution_count": 14,
   "metadata": {},
   "outputs": [
    {
     "data": {
      "text/html": [
       "<div>\n",
       "<style scoped>\n",
       "    .dataframe tbody tr th:only-of-type {\n",
       "        vertical-align: middle;\n",
       "    }\n",
       "\n",
       "    .dataframe tbody tr th {\n",
       "        vertical-align: top;\n",
       "    }\n",
       "\n",
       "    .dataframe thead th {\n",
       "        text-align: right;\n",
       "    }\n",
       "</style>\n",
       "<table border=\"1\" class=\"dataframe\">\n",
       "  <thead>\n",
       "    <tr style=\"text-align: right;\">\n",
       "      <th></th>\n",
       "      <th>Age</th>\n",
       "      <th>Income</th>\n",
       "      <th>SpendingScore</th>\n",
       "      <th>Savings</th>\n",
       "    </tr>\n",
       "  </thead>\n",
       "  <tbody>\n",
       "    <tr>\n",
       "      <th>0</th>\n",
       "      <td>-0.042287</td>\n",
       "      <td>0.062733</td>\n",
       "      <td>1.103593</td>\n",
       "      <td>-1.072467</td>\n",
       "    </tr>\n",
       "    <tr>\n",
       "      <th>1</th>\n",
       "      <td>-0.000821</td>\n",
       "      <td>0.174811</td>\n",
       "      <td>1.102641</td>\n",
       "      <td>-1.303473</td>\n",
       "    </tr>\n",
       "    <tr>\n",
       "      <th>2</th>\n",
       "      <td>0.123577</td>\n",
       "      <td>-0.021200</td>\n",
       "      <td>0.761727</td>\n",
       "      <td>-0.526556</td>\n",
       "    </tr>\n",
       "    <tr>\n",
       "      <th>3</th>\n",
       "      <td>-0.000821</td>\n",
       "      <td>-0.031712</td>\n",
       "      <td>1.004705</td>\n",
       "      <td>-0.913395</td>\n",
       "    </tr>\n",
       "    <tr>\n",
       "      <th>4</th>\n",
       "      <td>1.160228</td>\n",
       "      <td>-1.606165</td>\n",
       "      <td>-0.602619</td>\n",
       "      <td>1.012686</td>\n",
       "    </tr>\n",
       "    <tr>\n",
       "      <th>...</th>\n",
       "      <td>...</td>\n",
       "      <td>...</td>\n",
       "      <td>...</td>\n",
       "      <td>...</td>\n",
       "    </tr>\n",
       "    <tr>\n",
       "      <th>500</th>\n",
       "      <td>-1.286268</td>\n",
       "      <td>0.714535</td>\n",
       "      <td>-0.453557</td>\n",
       "      <td>0.621787</td>\n",
       "    </tr>\n",
       "    <tr>\n",
       "      <th>501</th>\n",
       "      <td>1.409024</td>\n",
       "      <td>-1.545704</td>\n",
       "      <td>-1.164109</td>\n",
       "      <td>1.235201</td>\n",
       "    </tr>\n",
       "    <tr>\n",
       "      <th>502</th>\n",
       "      <td>1.284626</td>\n",
       "      <td>-1.118447</td>\n",
       "      <td>-0.578054</td>\n",
       "      <td>0.855313</td>\n",
       "    </tr>\n",
       "    <tr>\n",
       "      <th>503</th>\n",
       "      <td>1.326092</td>\n",
       "      <td>-1.524929</td>\n",
       "      <td>-0.579866</td>\n",
       "      <td>1.322452</td>\n",
       "    </tr>\n",
       "    <tr>\n",
       "      <th>504</th>\n",
       "      <td>1.243160</td>\n",
       "      <td>-1.258335</td>\n",
       "      <td>-0.831890</td>\n",
       "      <td>0.510463</td>\n",
       "    </tr>\n",
       "  </tbody>\n",
       "</table>\n",
       "<p>505 rows × 4 columns</p>\n",
       "</div>"
      ],
      "text/plain": [
       "          Age    Income  SpendingScore   Savings\n",
       "0   -0.042287  0.062733       1.103593 -1.072467\n",
       "1   -0.000821  0.174811       1.102641 -1.303473\n",
       "2    0.123577 -0.021200       0.761727 -0.526556\n",
       "3   -0.000821 -0.031712       1.004705 -0.913395\n",
       "4    1.160228 -1.606165      -0.602619  1.012686\n",
       "..        ...       ...            ...       ...\n",
       "500 -1.286268  0.714535      -0.453557  0.621787\n",
       "501  1.409024 -1.545704      -1.164109  1.235201\n",
       "502  1.284626 -1.118447      -0.578054  0.855313\n",
       "503  1.326092 -1.524929      -0.579866  1.322452\n",
       "504  1.243160 -1.258335      -0.831890  0.510463\n",
       "\n",
       "[505 rows x 4 columns]"
      ]
     },
     "execution_count": 14,
     "metadata": {},
     "output_type": "execute_result"
    }
   ],
   "source": [
    "scaled_df1.iloc[:, 0:4]"
   ]
  },
  {
   "cell_type": "code",
   "execution_count": 60,
   "metadata": {},
   "outputs": [
    {
     "name": "stdout",
     "output_type": "stream",
     "text": [
      "\n",
      "Cluster 0:\n",
      "[   87.78 27866.1      0.33 16659.26]\n",
      "\n",
      "Cluster 1:\n",
      "[    32.78 105265.81      0.31  14962.78]\n",
      "\n",
      "Cluster 2:\n",
      "[   59.96 72448.06     0.77  6889.97]\n",
      "\n",
      "Cluster 3:\n",
      "[    24.18 128029.12      0.9    4087.52]\n",
      "\n",
      "Cluster 4:\n",
      "[    86.   119944.04      0.07  14808.68]\n"
     ]
    }
   ],
   "source": [
    "for label in set(kmeans_scaled.labels_):\n",
    "    print('\\nCluster {}:'.format(label))\n",
    "    print(scaler.inverse_transform(scaled_df1[kmeans_scaled.labels_==label].mean()))"
   ]
  },
  {
   "cell_type": "markdown",
   "metadata": {
    "id": "ihVtYBWg1NM6"
   },
   "source": [
    "## 1.2: Clustering Algorithm #2"
   ]
  },
  {
   "cell_type": "code",
   "execution_count": null,
   "metadata": {
    "id": "Pu2xugQj1Mci"
   },
   "outputs": [],
   "source": [
    "# TODO: delete this comment and insert code here. Feel free to add more code cells as appropriate."
   ]
  },
  {
   "cell_type": "markdown",
   "metadata": {
    "id": "6ySJIgNr1Sfy"
   },
   "source": [
    "## 1.3 Model Comparison"
   ]
  },
  {
   "cell_type": "markdown",
   "metadata": {
    "id": "gwQembOT1L6U"
   },
   "source": [
    "TODO: Delete this text and insert your answer here."
   ]
  },
  {
   "cell_type": "markdown",
   "metadata": {
    "id": "MP2EAnCJ1Xta"
   },
   "source": [
    "## 1.4 Personas"
   ]
  },
  {
   "cell_type": "markdown",
   "metadata": {
    "id": "dVewu2TZ1XhK"
   },
   "source": [
    "TODO: Delete this text and insert your answer here."
   ]
  },
  {
   "cell_type": "markdown",
   "metadata": {
    "id": "DYwuYIgczYSv"
   },
   "source": [
    "# Question 2: Uncle Steve's Fine Foods"
   ]
  },
  {
   "cell_type": "markdown",
   "metadata": {
    "id": "4oCr-mTfNG-H"
   },
   "source": [
    "## Instructions\n",
    "\n",
    "Uncle Steve runs a small, local grocery store in Ontario. The store sells all the normal food staples (e.g., bread, milk, cheese, eggs, more cheese, fruits, vegatables, meat, fish, waffles, ice cream, pasta, cereals, drinks), personal care products (e.g., toothpaste, shampoo, hair goo), medicine, and cakes. There's even a little section with flowers and greeting cards! Normal people shop here, and buy normal things in the normal way.\n",
    "\n",
    "Business is OK but Uncle Steve wants more. He's thus on the hunt for customer insights. Given your success at the jewelry store, he has asked you to help him out. \n",
    "\n",
    "He has given you a few years' worth of customer transactions, i.e., sets of items that customers have purchased. You have applied an association rules learning algorithm (like Apriori) to the data, and the algorithm has generated a large set of association rules of the form `{X} -> {Y}`, where `{X}` and `{Y}` are item-sets.\n",
    "\n",
    "Now comes a thought experiment. For each of the following scenarios, state what one of the discovered association rules might be that would meet the stated condition. (Just make up the rule, using your human experience and intuition.) Also, describe whether and why each rule would be considered interesting or uninteresting for Uncle Steve (i.e., is this insight new to him? Would he be able to use it somehow?).\n",
    "\n",
    "Keep each answer to 600 characters or less (including spaces).\n",
    "\n",
    "To get those brain juices going, an example condition and answer is provided below:\n",
    "\n",
    "> Condition: A rule that has high support.\n",
    "\n",
    "> Answer: The rule `{milk} -> {bread}` would have high support, since milk and bread are household staples and a high percentage of transactions would include both `{milk}` and `{bread}`. Uncle Steve would likely not find this rule interesting, because these items are so common, he would have surely already noticed that so many transactions contain them.\n",
    "\n",
    "**Marking**\n",
    "\n",
    "Your responses will be marked as follows:\n",
    "\n",
    "- *Correctness*. Rule meets the specificed condition, and seems plausible in an Ontario grocery store.\n",
    "- *Justification of interestness*. Response clearly describes whether and why the rule would be considered interesting to Uncle Steve.\n",
    "\n",
    "**Tips**\n",
    "\n",
    "- There is no actual data for this question. This question is just a thought exercise. You need to use your intuition, creatitivty, and understanding of the real world. I assume you are familiar with what happens inside of normal grocery stores. We are not using actual data and you do not need to create/generate/find any data. I repeat: there is no data for this question.\n",
    "- The reason this question is having you do a thought experiment, rather than writing and running code to find actual association rules on an actual dataset, is because writing code to find association rules is actually pretty easy. But using your brain to come up with rules that meet certain criteria, on the other hand, is a true test of whether you understand how the algorithm works, what support and confidence mean, and the applicability of rules. The question uses the grocery store context because most, if not all, students should be familiar from personal experience.\n",
    "\n"
   ]
  },
  {
   "cell_type": "markdown",
   "metadata": {},
   "source": [
    "- Grocery\n",
    "    - Baking\n",
    "    - Dairy\n",
    "    - Drinks\n",
    "    - Produce\n",
    "    - Fresh/Frozen\n",
    "    - Delicacy\n",
    "- Health and Beauty\n",
    "- Pharmacy"
   ]
  },
  {
   "cell_type": "markdown",
   "metadata": {},
   "source": [
    "> I work part-time at Walmart and have seen more number of items available (well, obviously, it's Walmart) but out of the list that is provided at Uncle Steve's Grocery Shop, the following rules and their answers are evident to me in my day-to-day life"
   ]
  },
  {
   "cell_type": "markdown",
   "metadata": {
    "id": "3YQsOb6CzYVq"
   },
   "source": [
    "## 2.1: A rule that might have high support and high confidence. "
   ]
  },
  {
   "cell_type": "markdown",
   "metadata": {
    "id": "DzXu1IvK-MEg"
   },
   "source": [
    "***Thought:*** *Anything that has high chance of being together in the transaction, both frequency and chance/probability*\n",
    "\n",
    "**Answer:** The rule {Greeting Cards} -> {Cakes} would have high support and confidence, since greeting cards and cakes are usually bought as a gift for occassions and would have a high chance of being bought together. Uncle Steve would not probably find it interesting because these kind of transactions or items do sell frequently. So this would not generate meaningful insights about the transactional data for the store."
   ]
  },
  {
   "cell_type": "markdown",
   "metadata": {
    "id": "VNIrAgJk-L4l"
   },
   "source": [
    "## 2.2: A rule that might have reasonably high support but low confidence."
   ]
  },
  {
   "cell_type": "markdown",
   "metadata": {
    "id": "svdzYW3S-LvF"
   },
   "source": [
    "***Thought:*** *We need to find some correlated items that are bought together, but have a low chance of being bought together.*\n",
    "\n",
    "**Answer:** The rule {Medicine} -> {Vegetables, Fruits} would have "
   ]
  },
  {
   "cell_type": "markdown",
   "metadata": {
    "id": "loe--LMz-Ll8"
   },
   "source": [
    "## 2.3: A rule that might have low support and low confidence."
   ]
  },
  {
   "cell_type": "markdown",
   "metadata": {
    "id": "HdyOB5fe-Zgy"
   },
   "source": [
    "***Thought:*** *We need to find some correlated items that are usually not bought together, and have a low chance too.*\n",
    "\n",
    "**Answer:** The rule {Drinks} -> {Shampoo, Body wash, Hair goo} would have very low support and low confidence since these aren't really bought together and have a very low chance of being bought together. The number of transactions where this combination is present is fairly low as these are 2 totally different categories. Uncle Steve would find this intuitive as the people who usually buy groceries on a monthly basis might have this combination but the chance is fairly low and he would not have noticed this."
   ]
  },
  {
   "cell_type": "markdown",
   "metadata": {
    "id": "St2eI3We-ZYs"
   },
   "source": [
    "## 2.4: A rule that might have low support and high confidence."
   ]
  },
  {
   "cell_type": "markdown",
   "metadata": {
    "id": "LcdZc-B1-fE7"
   },
   "source": [
    "***Thought:*** *We need to find some correlated items that are usually not bought together, and have a high chance of being bought together.*\n",
    "\n",
    "**Answer:** The rule {Medicine/Tylenol} -> {Vegetables, Fruits} would have low support but high confidence because when someone is not well, they usually are adviced to eat healthy (everyone should eat healthy though). Fruits and vegetables are healthy and aid in faster recovery of a disease, however, this is subjective. To a model that is generating rules and Uncle Steve, this rule would be interesting as this is not so common transaction and would be providing critical insights."
   ]
  },
  {
   "cell_type": "markdown",
   "metadata": {
    "id": "B_IHoz7f2yIV"
   },
   "source": [
    "# Question 3: Uncle Steve's Credit Union"
   ]
  },
  {
   "cell_type": "markdown",
   "metadata": {
    "id": "WhERdkp_zYBY"
   },
   "source": [
    "## Instructions\n",
    "\n",
    "Uncle Steve has recently opened a new credit union in Kingston, named *Uncle Steve's Credit Union*. He plans to disrupt the local market by instaneously providing credit to customers.\n",
    "\n",
    "The first step in Uncle Steve's master plan is to create a model to predict whether an application has *good risk* or *bad risk*. He has outsourced the creation of this model to you.\n",
    "\n",
    "You are to create a classification model to predict whether a loan applicant has good risk or bad risk. You will use data  that Uncle Steve bought from another credit union (somewhere in Europe, he thinks?) that has around 6000 instances and a number of demographics features (e.g., `Sex`, `DateOfBirth`, `Married`), loan details (e.g., `Amount`, `Purpose`), credit history (e.g., number of loans), as well as an indicator (called `BadCredit` in the dataset) as to whether that person was a bad risk.\n",
    "\n",
    "\n",
    "**Your tasks**\n",
    "\n",
    "To examine the effects of the various ML stages, you are to create the model several times, each time adding more sophistication, and measuring how much the model improved (or not). In particular, you will:\n",
    "\n",
    "0. Split the data in training and testing. Don't touch the testing data again, for any reason, until step 5. We are pretending that the testing data is \"future, unseen data that our model won't see until production.\" I'm serious, don't touch it. I'm watching you!\n",
    "1. Build a baseline model - no feature engineering, no feature selection, no hyperparameter tuning (just use the default settings), nothing fancy. (You may need to do some basic feature transformations, e.g., encoding of categorical features, or dropping of features you do not think will help or do not want to deal with yet.) Measure the performance using K-fold cross validation (recommended: [`sklearn.model_selection.cross_val_score`](https://scikit-learn.org/stable/modules/generated/sklearn.model_selection.cross_val_score.html#sklearn.model_selection.cross_val_score)) on the training data. Use at least 5 folds, but more are better. Choose a [`scoring` parameter](https://scikit-learn.org/stable/modules/model_evaluation.html#scoring-parameter) (i.e., classification metric) that you feel is appropriate for this task. Don't use accuracy. Print the mean score of your model.\n",
    "2. Add a bit of feature engineering. The [`sklearn.preprocessing`](https://scikit-learn.org/stable/modules/classes.html#module-sklearn.preprocessing) module contains many useful transformations. Engineer at least three new features. They don't need to be especially ground-breaking or complicated. Dimensionality reduction techniques like [`sklearn.decomposition.PCA`](https://scikit-learn.org/stable/modules/generated/sklearn.decomposition.PCA.html) are fair game but not required. (If you do use dimensionality reduction techniques, it would only count as \"one\" new feature for the purposes of this assignment, even though I realize that PCA creates many new \"features\" (i.e., principal componentns).) Re-train your baseline model. Measure performance. Compare to step 1.\n",
    "3. Add feature selection. The [`sklearn.feature_selection`](https://scikit-learn.org/stable/modules/classes.html#module-sklearn.feature_selection) has some algorithms for you to choose from. After selecting features, re-train your model, measure performance, and compare to step 2.\n",
    "4. Add hyperparameter tuning. Make reasonable choices and try to find the best (or at least, better) hyperparameters for your estimator and/or transformers. It's probably a good idea to stop using `cross_val_score` at this point and start using [`sklearn.model_selection.GridSearchCV`](https://scikit-learn.org/stable/modules/generated/sklearn.model_selection.GridSearchCV.html#sklearn.model_selection.GridSearchCV) as it is specifically built for this purpose and is more convienient to use. Measure performance and compare to step 3.\n",
    "5. Finally, estimate how well your model will work in production. Use the testing data (our \"future, unseen data\") from step 0. Transform the data as appropriate (easy if you've built a pipeline, a little more difficult if not), use the model from step 4 to get predictions, and measure the performance. How well did we do? \n",
    "\n",
    "\n",
    "**Marking**\n",
    "\n",
    "Each part will be marked for:\n",
    "- *Correctness*. Code clearly and fully performs the task specified.\n",
    "- *Reproducibility*. Code is fully reproducible. I.e., you (and I) should be able to run this Notebook again and again, from top to bottom, and get the same results each and every time.\n",
    "- *Style*. Code is organized. All parts commented with clear reasoning and rationale. No old code laying around. Code easy to follow. \n",
    "\n",
    "\n",
    "**Tips**\n",
    "- The origins of the dataset are a bit of a mystery. Assume the data set is recent (circa 2021) and up-to-date. Assume that column names are correct and accurate.\n",
    "- You don't need to experiment with more than one algorithm/estimator. Just choose one (e.g., [`sklearn.tree.DecisionTreeClassifier`](https://scikit-learn.org/stable/modules/generated/sklearn.tree.DecisionTreeClassifier.html#sklearn.tree.DecisionTreeClassifier), [`sklearn.ensemble.RandomForestClassifier`](https://scikit-learn.org/stable/modules/generated/sklearn.ensemble.RandomForestClassifier.html#sklearn.ensemble.RandomForestClassifier), [`sklearn.linear_model.LogisticRegression`](https://scikit-learn.org/stable/modules/generated/sklearn.linear_model.LogisticRegression.html#sklearn.linear_model.LogisticRegression), [`sklearn.svm.LinearSVC`](https://scikit-learn.org/stable/modules/generated/sklearn.svm.LinearSVC.html#sklearn.svm.LinearSVC), whatever) and stick with it for this question. \n",
    "- There is no minimum accuracy/precision/recall for this question. I.e., your mark will not be based on how good your model is. Rather, you mark will be based on good your process is.\n",
    "- Watch out for data leakage and overfitting. In particular, be sure to `fit()` any estimators and transformers (collectively, *objects*) only to the training data, and then use the objects' `transform()` methods on both the training and testing data. [Data School](https://www.youtube.com/c/dataschool/featured) has a [helpful video](https://www.youtube.com/watch?v=g2XsZdwbCCs) about this. [Pipelines](https://www.youtube.com/watch?v=1Y6O9nCo0-I) are very helpful here and make your code shorter and more robust (at the expense of making it harder to understand), and I recommend using them, but they are not required for this assignment.\n",
    "- Create as many code cells as you need. In general, each cell should do one \"thing.\"\n",
    "-\tDon't print large volumes of output. E.g., don't do: `df.head(100)`\n",
    "\n",
    "\n"
   ]
  },
  {
   "cell_type": "markdown",
   "metadata": {
    "id": "jqm_REd4oouz"
   },
   "source": [
    "## 3.0: Load data and split"
   ]
  },
  {
   "cell_type": "code",
   "execution_count": 18,
   "metadata": {
    "colab": {
     "base_uri": "https://localhost:8080/"
    },
    "id": "X6b_BM0Nz9sF",
    "outputId": "aa77f2e3-c6a2-4b80-bfcf-75fb641234ea"
   },
   "outputs": [
    {
     "name": "stdout",
     "output_type": "stream",
     "text": [
      "<class 'pandas.core.frame.DataFrame'>\n",
      "RangeIndex: 6000 entries, 0 to 5999\n",
      "Data columns (total 17 columns):\n",
      " #   Column             Non-Null Count  Dtype \n",
      "---  ------             --------------  ----- \n",
      " 0   UserID             6000 non-null   object\n",
      " 1   Sex                6000 non-null   object\n",
      " 2   PreviousDefault    6000 non-null   int64 \n",
      " 3   FirstName          6000 non-null   object\n",
      " 4   LastName           6000 non-null   object\n",
      " 5   NumberPets         6000 non-null   int64 \n",
      " 6   PreviousAccounts   6000 non-null   int64 \n",
      " 7   ResidenceDuration  6000 non-null   int64 \n",
      " 8   Street             6000 non-null   object\n",
      " 9   LicensePlate       6000 non-null   object\n",
      " 10  BadCredit          6000 non-null   int64 \n",
      " 11  Amount             6000 non-null   int64 \n",
      " 12  Married            6000 non-null   int64 \n",
      " 13  Duration           6000 non-null   int64 \n",
      " 14  City               6000 non-null   object\n",
      " 15  Purpose            6000 non-null   object\n",
      " 16  DateOfBirth        6000 non-null   object\n",
      "dtypes: int64(8), object(9)\n",
      "memory usage: 797.0+ KB\n"
     ]
    }
   ],
   "source": [
    "# DO NOT MODIFY THIS CELL\n",
    "\n",
    "# First, we'll read the provided labeled training data\n",
    "df3 = pd.read_csv(\"https://drive.google.com/uc?export=download&id=1wOhyCnvGeY4jplxI8lZ-bbYN3zLtickf\")\n",
    "df3.info()\n",
    "\n",
    "from sklearn.model_selection import train_test_split\n",
    "\n",
    "X = df3.drop('BadCredit', axis=1) #.select_dtypes(['number'])\n",
    "y = df3['BadCredit']\n",
    "\n",
    "X_train, X_test, y_train, y_test = train_test_split(X, y, test_size=0.2, random_state=42)"
   ]
  },
  {
   "cell_type": "markdown",
   "metadata": {
    "id": "sdiKKblCo53S"
   },
   "source": [
    "## 3.1: Baseline model"
   ]
  },
  {
   "cell_type": "code",
   "execution_count": 19,
   "metadata": {
    "id": "mSumAZUAo9O6"
   },
   "outputs": [
    {
     "data": {
      "text/html": [
       "<div>\n",
       "<style scoped>\n",
       "    .dataframe tbody tr th:only-of-type {\n",
       "        vertical-align: middle;\n",
       "    }\n",
       "\n",
       "    .dataframe tbody tr th {\n",
       "        vertical-align: top;\n",
       "    }\n",
       "\n",
       "    .dataframe thead th {\n",
       "        text-align: right;\n",
       "    }\n",
       "</style>\n",
       "<table border=\"1\" class=\"dataframe\">\n",
       "  <thead>\n",
       "    <tr style=\"text-align: right;\">\n",
       "      <th></th>\n",
       "      <th>UserID</th>\n",
       "      <th>Sex</th>\n",
       "      <th>PreviousDefault</th>\n",
       "      <th>FirstName</th>\n",
       "      <th>LastName</th>\n",
       "      <th>NumberPets</th>\n",
       "      <th>PreviousAccounts</th>\n",
       "      <th>ResidenceDuration</th>\n",
       "      <th>Street</th>\n",
       "      <th>LicensePlate</th>\n",
       "      <th>BadCredit</th>\n",
       "      <th>Amount</th>\n",
       "      <th>Married</th>\n",
       "      <th>Duration</th>\n",
       "      <th>City</th>\n",
       "      <th>Purpose</th>\n",
       "      <th>DateOfBirth</th>\n",
       "    </tr>\n",
       "  </thead>\n",
       "  <tbody>\n",
       "    <tr>\n",
       "      <th>0</th>\n",
       "      <td>218-84-8180</td>\n",
       "      <td>F</td>\n",
       "      <td>0</td>\n",
       "      <td>Debra</td>\n",
       "      <td>Schaefer</td>\n",
       "      <td>2</td>\n",
       "      <td>3</td>\n",
       "      <td>1</td>\n",
       "      <td>503 Linda Locks</td>\n",
       "      <td>395C</td>\n",
       "      <td>0</td>\n",
       "      <td>3907</td>\n",
       "      <td>0</td>\n",
       "      <td>24</td>\n",
       "      <td>Port Keith</td>\n",
       "      <td>Vacation</td>\n",
       "      <td>1964-04-07</td>\n",
       "    </tr>\n",
       "    <tr>\n",
       "      <th>1</th>\n",
       "      <td>395-49-9764</td>\n",
       "      <td>M</td>\n",
       "      <td>0</td>\n",
       "      <td>Derek</td>\n",
       "      <td>Wright</td>\n",
       "      <td>0</td>\n",
       "      <td>1</td>\n",
       "      <td>1</td>\n",
       "      <td>969 Cox Dam Suite 101</td>\n",
       "      <td>UFZ 691</td>\n",
       "      <td>0</td>\n",
       "      <td>3235</td>\n",
       "      <td>0</td>\n",
       "      <td>12</td>\n",
       "      <td>Lake Debra</td>\n",
       "      <td>NewCar</td>\n",
       "      <td>1978-06-02</td>\n",
       "    </tr>\n",
       "    <tr>\n",
       "      <th>2</th>\n",
       "      <td>892-81-4890</td>\n",
       "      <td>F</td>\n",
       "      <td>0</td>\n",
       "      <td>Shannon</td>\n",
       "      <td>Smith</td>\n",
       "      <td>0</td>\n",
       "      <td>0</td>\n",
       "      <td>2</td>\n",
       "      <td>845 Kelly Estate</td>\n",
       "      <td>48A•281</td>\n",
       "      <td>0</td>\n",
       "      <td>3108</td>\n",
       "      <td>1</td>\n",
       "      <td>30</td>\n",
       "      <td>North Judithbury</td>\n",
       "      <td>NewCar</td>\n",
       "      <td>1972-03-18</td>\n",
       "    </tr>\n",
       "    <tr>\n",
       "      <th>3</th>\n",
       "      <td>081-11-7963</td>\n",
       "      <td>F</td>\n",
       "      <td>0</td>\n",
       "      <td>Christina</td>\n",
       "      <td>Brooks</td>\n",
       "      <td>2</td>\n",
       "      <td>1</td>\n",
       "      <td>3</td>\n",
       "      <td>809 Burns Creek</td>\n",
       "      <td>30Z J39</td>\n",
       "      <td>1</td>\n",
       "      <td>4014</td>\n",
       "      <td>1</td>\n",
       "      <td>36</td>\n",
       "      <td>Lake Chad</td>\n",
       "      <td>Other</td>\n",
       "      <td>1985-02-26</td>\n",
       "    </tr>\n",
       "    <tr>\n",
       "      <th>4</th>\n",
       "      <td>347-03-9639</td>\n",
       "      <td>M</td>\n",
       "      <td>0</td>\n",
       "      <td>Ralph</td>\n",
       "      <td>Anderson</td>\n",
       "      <td>1</td>\n",
       "      <td>5</td>\n",
       "      <td>1</td>\n",
       "      <td>248 Brandt Plains Apt. 465</td>\n",
       "      <td>71-Q331</td>\n",
       "      <td>1</td>\n",
       "      <td>3823</td>\n",
       "      <td>0</td>\n",
       "      <td>18</td>\n",
       "      <td>North Judithbury</td>\n",
       "      <td>Vacation</td>\n",
       "      <td>1983-08-08</td>\n",
       "    </tr>\n",
       "  </tbody>\n",
       "</table>\n",
       "</div>"
      ],
      "text/plain": [
       "        UserID Sex  PreviousDefault  FirstName  LastName  NumberPets  \\\n",
       "0  218-84-8180   F                0      Debra  Schaefer           2   \n",
       "1  395-49-9764   M                0      Derek    Wright           0   \n",
       "2  892-81-4890   F                0    Shannon     Smith           0   \n",
       "3  081-11-7963   F                0  Christina    Brooks           2   \n",
       "4  347-03-9639   M                0      Ralph  Anderson           1   \n",
       "\n",
       "   PreviousAccounts  ResidenceDuration                      Street  \\\n",
       "0                 3                  1             503 Linda Locks   \n",
       "1                 1                  1       969 Cox Dam Suite 101   \n",
       "2                 0                  2            845 Kelly Estate   \n",
       "3                 1                  3             809 Burns Creek   \n",
       "4                 5                  1  248 Brandt Plains Apt. 465   \n",
       "\n",
       "  LicensePlate  BadCredit  Amount  Married  Duration              City  \\\n",
       "0         395C          0    3907        0        24        Port Keith   \n",
       "1      UFZ 691          0    3235        0        12        Lake Debra   \n",
       "2      48A•281          0    3108        1        30  North Judithbury   \n",
       "3      30Z J39          1    4014        1        36         Lake Chad   \n",
       "4      71-Q331          1    3823        0        18  North Judithbury   \n",
       "\n",
       "    Purpose DateOfBirth  \n",
       "0  Vacation  1964-04-07  \n",
       "1    NewCar  1978-06-02  \n",
       "2    NewCar  1972-03-18  \n",
       "3     Other  1985-02-26  \n",
       "4  Vacation  1983-08-08  "
      ]
     },
     "execution_count": 19,
     "metadata": {},
     "output_type": "execute_result"
    }
   ],
   "source": [
    "# TODO: Insert code here. Feel free to create additional code cells if necessary.\n",
    "#Data Exploration\n",
    "df3.head()"
   ]
  },
  {
   "cell_type": "code",
   "execution_count": 20,
   "metadata": {},
   "outputs": [
    {
     "data": {
      "text/plain": [
       "(6000, 17)"
      ]
     },
     "execution_count": 20,
     "metadata": {},
     "output_type": "execute_result"
    }
   ],
   "source": [
    "df3.shape"
   ]
  },
  {
   "cell_type": "code",
   "execution_count": 21,
   "metadata": {},
   "outputs": [
    {
     "data": {
      "text/plain": [
       "array(['Vacation', 'NewCar', 'Other', 'UsedCar', 'Household', 'Business',\n",
       "       'Education', 'Repair'], dtype=object)"
      ]
     },
     "execution_count": 21,
     "metadata": {},
     "output_type": "execute_result"
    }
   ],
   "source": [
    "df3.Purpose.unique()"
   ]
  },
  {
   "cell_type": "code",
   "execution_count": 22,
   "metadata": {},
   "outputs": [
    {
     "data": {
      "text/plain": [
       "array(['Port Keith', 'Lake Debra', 'North Judithbury', 'Lake Chad',\n",
       "       'East Jill', 'Ericmouth', 'East Jessetown', 'Ramirezstad',\n",
       "       'Lisatown', 'New Roberttown', 'North Noahstad', 'Robinsonshire',\n",
       "       'New Kellystad', 'New Jessica', 'West Michael', 'Jacquelineland',\n",
       "       'Lake Roberto', 'Cassandraton', 'Herrerafurt', 'Port Jesseville'],\n",
       "      dtype=object)"
      ]
     },
     "execution_count": 22,
     "metadata": {},
     "output_type": "execute_result"
    }
   ],
   "source": [
    "df3.City.unique()"
   ]
  },
  {
   "cell_type": "code",
   "execution_count": 23,
   "metadata": {},
   "outputs": [
    {
     "data": {
      "text/plain": [
       "<AxesSubplot:>"
      ]
     },
     "execution_count": 23,
     "metadata": {},
     "output_type": "execute_result"
    },
    {
     "data": {
      "image/png": "[encoded data removed]",
      "text/plain": [
       "<Figure size 1080x1080 with 2 Axes>"
      ]
     },
     "metadata": {
      "needs_background": "light"
     },
     "output_type": "display_data"
    }
   ],
   "source": [
    "#Correlation plot\n",
    "plt.figure(figsize = (15,15))\n",
    "corr_matrix = X_train.corr()\n",
    "mask = np.triu(np.ones_like(corr_matrix.iloc[:-1,:-1], dtype=bool))\n",
    "cmap = sns.diverging_palette(230, 20, as_cmap=True)\n",
    "sns.heatmap(corr_matrix.iloc[:-1,:-1],mask=mask, cmap=cmap, vmax=1, center=0, annot = True,\n",
    "            square=True, linewidths=.5, cbar_kws={\"shrink\": .82})"
   ]
  },
  {
   "cell_type": "code",
   "execution_count": 24,
   "metadata": {},
   "outputs": [
    {
     "data": {
      "text/plain": [
       "array([[<AxesSubplot:title={'center':'PreviousDefault'}>,\n",
       "        <AxesSubplot:title={'center':'NumberPets'}>,\n",
       "        <AxesSubplot:title={'center':'PreviousAccounts'}>],\n",
       "       [<AxesSubplot:title={'center':'ResidenceDuration'}>,\n",
       "        <AxesSubplot:title={'center':'Amount'}>,\n",
       "        <AxesSubplot:title={'center':'Married'}>],\n",
       "       [<AxesSubplot:title={'center':'Duration'}>, <AxesSubplot:>,\n",
       "        <AxesSubplot:>]], dtype=object)"
      ]
     },
     "execution_count": 24,
     "metadata": {},
     "output_type": "execute_result"
    },
    {
     "data": {
      "image/png": "[encoded data removed]",
      "text/plain": [
       "<Figure size 1080x720 with 9 Axes>"
      ]
     },
     "metadata": {
      "needs_background": "light"
     },
     "output_type": "display_data"
    }
   ],
   "source": [
    "X_train.hist(bins=30, figsize=(15, 10))"
   ]
  },
  {
   "cell_type": "code",
   "execution_count": 25,
   "metadata": {},
   "outputs": [],
   "source": [
    "#Copy Training dataset\n",
    "X_train_cp = X_train.copy()"
   ]
  },
  {
   "cell_type": "code",
   "execution_count": 26,
   "metadata": {},
   "outputs": [],
   "source": [
    "#Drop unwanted columns\n",
    "X_train_cp = X_train_cp.drop(['UserID','FirstName','LastName','Street','LicensePlate', 'DateOfBirth'], axis=1)"
   ]
  },
  {
   "cell_type": "code",
   "execution_count": 28,
   "metadata": {},
   "outputs": [],
   "source": [
    "#Create dummy variables\n",
    "X_train_cp = pd.get_dummies(X_train_cp)"
   ]
  },
  {
   "cell_type": "code",
   "execution_count": 29,
   "metadata": {},
   "outputs": [],
   "source": [
    "#Initialize Logistic Regression Object\n",
    "logReg = LogisticRegression()"
   ]
  },
  {
   "cell_type": "code",
   "execution_count": 30,
   "metadata": {},
   "outputs": [
    {
     "name": "stderr",
     "output_type": "stream",
     "text": [
      "/Users/apple/anaconda3/lib/python3.7/site-packages/sklearn/linear_model/_logistic.py:765: ConvergenceWarning: lbfgs failed to converge (status=1):\n",
      "STOP: TOTAL NO. of ITERATIONS REACHED LIMIT.\n",
      "\n",
      "Increase the number of iterations (max_iter) or scale the data as shown in:\n",
      "    https://scikit-learn.org/stable/modules/preprocessing.html\n",
      "Please also refer to the documentation for alternative solver options:\n",
      "    https://scikit-learn.org/stable/modules/linear_model.html#logistic-regression\n",
      "  extra_warning_msg=_LOGISTIC_SOLVER_CONVERGENCE_MSG)\n"
     ]
    },
    {
     "data": {
      "text/plain": [
       "LogisticRegression()"
      ]
     },
     "execution_count": 30,
     "metadata": {},
     "output_type": "execute_result"
    }
   ],
   "source": [
    "#Train the algorithm\n",
    "logReg.fit(X_train_cp, y_train)"
   ]
  },
  {
   "cell_type": "code",
   "execution_count": 31,
   "metadata": {
    "scrolled": true
   },
   "outputs": [],
   "source": [
    "#KFold Cross Validation\n",
    "def kfold_(logReg_, X_train_, y_train_):\n",
    "    cv = KFold(n_splits=10, random_state=1, shuffle=True)\n",
    "\n",
    "\n",
    "    scoring = {'accuracy' : make_scorer(accuracy_score), 'precision' : make_scorer(precision_score),'recall' : make_scorer(recall_score),'f1_score' : make_scorer(f1_score)}\n",
    "\n",
    "    # Model Evaluation\n",
    "    scores = cross_validate(logReg_, X_train_, y_train_, scoring=scoring, cv=cv)\n",
    "\n",
    "    # Model Scores\n",
    "    for k,v in scores.items():\n",
    "        print('Mean', k,':',' %.3f (%.3f)' % (np.mean(scores[k]), np.std(scores[k])))"
   ]
  },
  {
   "cell_type": "code",
   "execution_count": 32,
   "metadata": {},
   "outputs": [
    {
     "name": "stderr",
     "output_type": "stream",
     "text": [
      "/Users/apple/anaconda3/lib/python3.7/site-packages/sklearn/linear_model/_logistic.py:765: ConvergenceWarning: lbfgs failed to converge (status=1):\n",
      "STOP: TOTAL NO. of ITERATIONS REACHED LIMIT.\n",
      "\n",
      "Increase the number of iterations (max_iter) or scale the data as shown in:\n",
      "    https://scikit-learn.org/stable/modules/preprocessing.html\n",
      "Please also refer to the documentation for alternative solver options:\n",
      "    https://scikit-learn.org/stable/modules/linear_model.html#logistic-regression\n",
      "  extra_warning_msg=_LOGISTIC_SOLVER_CONVERGENCE_MSG)\n",
      "/Users/apple/anaconda3/lib/python3.7/site-packages/sklearn/linear_model/_logistic.py:765: ConvergenceWarning: lbfgs failed to converge (status=1):\n",
      "STOP: TOTAL NO. of ITERATIONS REACHED LIMIT.\n",
      "\n",
      "Increase the number of iterations (max_iter) or scale the data as shown in:\n",
      "    https://scikit-learn.org/stable/modules/preprocessing.html\n",
      "Please also refer to the documentation for alternative solver options:\n",
      "    https://scikit-learn.org/stable/modules/linear_model.html#logistic-regression\n",
      "  extra_warning_msg=_LOGISTIC_SOLVER_CONVERGENCE_MSG)\n",
      "/Users/apple/anaconda3/lib/python3.7/site-packages/sklearn/linear_model/_logistic.py:765: ConvergenceWarning: lbfgs failed to converge (status=1):\n",
      "STOP: TOTAL NO. of ITERATIONS REACHED LIMIT.\n",
      "\n",
      "Increase the number of iterations (max_iter) or scale the data as shown in:\n",
      "    https://scikit-learn.org/stable/modules/preprocessing.html\n",
      "Please also refer to the documentation for alternative solver options:\n",
      "    https://scikit-learn.org/stable/modules/linear_model.html#logistic-regression\n",
      "  extra_warning_msg=_LOGISTIC_SOLVER_CONVERGENCE_MSG)\n",
      "/Users/apple/anaconda3/lib/python3.7/site-packages/sklearn/linear_model/_logistic.py:765: ConvergenceWarning: lbfgs failed to converge (status=1):\n",
      "STOP: TOTAL NO. of ITERATIONS REACHED LIMIT.\n",
      "\n",
      "Increase the number of iterations (max_iter) or scale the data as shown in:\n",
      "    https://scikit-learn.org/stable/modules/preprocessing.html\n",
      "Please also refer to the documentation for alternative solver options:\n",
      "    https://scikit-learn.org/stable/modules/linear_model.html#logistic-regression\n",
      "  extra_warning_msg=_LOGISTIC_SOLVER_CONVERGENCE_MSG)\n",
      "/Users/apple/anaconda3/lib/python3.7/site-packages/sklearn/linear_model/_logistic.py:765: ConvergenceWarning: lbfgs failed to converge (status=1):\n",
      "STOP: TOTAL NO. of ITERATIONS REACHED LIMIT.\n",
      "\n",
      "Increase the number of iterations (max_iter) or scale the data as shown in:\n",
      "    https://scikit-learn.org/stable/modules/preprocessing.html\n",
      "Please also refer to the documentation for alternative solver options:\n",
      "    https://scikit-learn.org/stable/modules/linear_model.html#logistic-regression\n",
      "  extra_warning_msg=_LOGISTIC_SOLVER_CONVERGENCE_MSG)\n",
      "/Users/apple/anaconda3/lib/python3.7/site-packages/sklearn/linear_model/_logistic.py:765: ConvergenceWarning: lbfgs failed to converge (status=1):\n",
      "STOP: TOTAL NO. of ITERATIONS REACHED LIMIT.\n",
      "\n",
      "Increase the number of iterations (max_iter) or scale the data as shown in:\n",
      "    https://scikit-learn.org/stable/modules/preprocessing.html\n",
      "Please also refer to the documentation for alternative solver options:\n",
      "    https://scikit-learn.org/stable/modules/linear_model.html#logistic-regression\n",
      "  extra_warning_msg=_LOGISTIC_SOLVER_CONVERGENCE_MSG)\n",
      "/Users/apple/anaconda3/lib/python3.7/site-packages/sklearn/linear_model/_logistic.py:765: ConvergenceWarning: lbfgs failed to converge (status=1):\n",
      "STOP: TOTAL NO. of ITERATIONS REACHED LIMIT.\n",
      "\n",
      "Increase the number of iterations (max_iter) or scale the data as shown in:\n",
      "    https://scikit-learn.org/stable/modules/preprocessing.html\n",
      "Please also refer to the documentation for alternative solver options:\n",
      "    https://scikit-learn.org/stable/modules/linear_model.html#logistic-regression\n",
      "  extra_warning_msg=_LOGISTIC_SOLVER_CONVERGENCE_MSG)\n",
      "/Users/apple/anaconda3/lib/python3.7/site-packages/sklearn/linear_model/_logistic.py:765: ConvergenceWarning: lbfgs failed to converge (status=1):\n",
      "STOP: TOTAL NO. of ITERATIONS REACHED LIMIT.\n",
      "\n",
      "Increase the number of iterations (max_iter) or scale the data as shown in:\n",
      "    https://scikit-learn.org/stable/modules/preprocessing.html\n",
      "Please also refer to the documentation for alternative solver options:\n",
      "    https://scikit-learn.org/stable/modules/linear_model.html#logistic-regression\n",
      "  extra_warning_msg=_LOGISTIC_SOLVER_CONVERGENCE_MSG)\n"
     ]
    },
    {
     "name": "stdout",
     "output_type": "stream",
     "text": [
      "Mean fit_time :  0.163 (0.086)\n",
      "Mean score_time :  0.010 (0.003)\n",
      "Mean test_accuracy :  0.826 (0.019)\n",
      "Mean test_precision :  0.493 (0.189)\n",
      "Mean test_recall :  0.109 (0.068)\n",
      "Mean test_f1_score :  0.170 (0.092)\n"
     ]
    },
    {
     "name": "stderr",
     "output_type": "stream",
     "text": [
      "/Users/apple/anaconda3/lib/python3.7/site-packages/sklearn/linear_model/_logistic.py:765: ConvergenceWarning: lbfgs failed to converge (status=1):\n",
      "STOP: TOTAL NO. of ITERATIONS REACHED LIMIT.\n",
      "\n",
      "Increase the number of iterations (max_iter) or scale the data as shown in:\n",
      "    https://scikit-learn.org/stable/modules/preprocessing.html\n",
      "Please also refer to the documentation for alternative solver options:\n",
      "    https://scikit-learn.org/stable/modules/linear_model.html#logistic-regression\n",
      "  extra_warning_msg=_LOGISTIC_SOLVER_CONVERGENCE_MSG)\n",
      "/Users/apple/anaconda3/lib/python3.7/site-packages/sklearn/linear_model/_logistic.py:765: ConvergenceWarning: lbfgs failed to converge (status=1):\n",
      "STOP: TOTAL NO. of ITERATIONS REACHED LIMIT.\n",
      "\n",
      "Increase the number of iterations (max_iter) or scale the data as shown in:\n",
      "    https://scikit-learn.org/stable/modules/preprocessing.html\n",
      "Please also refer to the documentation for alternative solver options:\n",
      "    https://scikit-learn.org/stable/modules/linear_model.html#logistic-regression\n",
      "  extra_warning_msg=_LOGISTIC_SOLVER_CONVERGENCE_MSG)\n"
     ]
    }
   ],
   "source": [
    "kfold_(logReg,X_train_cp,y_train)"
   ]
  },
  {
   "cell_type": "markdown",
   "metadata": {
    "id": "ugyTS51Ko5vz"
   },
   "source": [
    "## 3.2: Feature engineering"
   ]
  },
  {
   "cell_type": "code",
   "execution_count": 41,
   "metadata": {},
   "outputs": [],
   "source": [
    "#Change DateofBirth to timestamp\n",
    "X_train_cp['DateOfBirth'] = pd.to_datetime(X_train.DateOfBirth)"
   ]
  },
  {
   "cell_type": "code",
   "execution_count": 45,
   "metadata": {},
   "outputs": [],
   "source": [
    "#Calculate Age of the person from the DOB\n",
    "from datetime import datetime\n",
    "today = datetime.today()\n",
    "X_train_cp['age'] = X_train_cp['DateOfBirth'].apply(lambda x: today.year - x.year - ((today.month, today.day) < (x.month, x.day)))\n",
    "X_train_cp = X_train_cp.drop(['DateOfBirth'], axis=1)"
   ]
  },
  {
   "cell_type": "code",
   "execution_count": 55,
   "metadata": {},
   "outputs": [],
   "source": [
    "#Standard Scaling\n",
    "from sklearn.preprocessing import StandardScaler\n",
    "X_train_cp_scal = StandardScaler().fit_transform(X_train_cp)"
   ]
  },
  {
   "cell_type": "code",
   "execution_count": 56,
   "metadata": {},
   "outputs": [
    {
     "name": "stdout",
     "output_type": "stream",
     "text": [
      "Mean fit_time :  0.016 (0.004)\n",
      "Mean score_time :  0.006 (0.002)\n",
      "Mean test_accuracy :  0.887 (0.010)\n",
      "Mean test_precision :  0.727 (0.075)\n",
      "Mean test_recall :  0.558 (0.052)\n",
      "Mean test_f1_score :  0.628 (0.038)\n"
     ]
    }
   ],
   "source": [
    "logReg.fit(X_train_cp_scal, y_train)\n",
    "kfold_(logReg,X_train_cp_scal,y_train)"
   ]
  },
  {
   "cell_type": "code",
   "execution_count": 51,
   "metadata": {
    "id": "742aYkYbprVD"
   },
   "outputs": [],
   "source": [
    "# TODO: Insert code here. Feel free to create additional code cells if necessary.\n",
    "#Question: Does adding polynomial features count as 1 or more than that\n",
    "poly = PolynomialFeatures()\n",
    "X_train_cp_feat = poly.fit_transform(X_train_cp_scal)"
   ]
  },
  {
   "cell_type": "code",
   "execution_count": 52,
   "metadata": {},
   "outputs": [
    {
     "name": "stderr",
     "output_type": "stream",
     "text": [
      "/Users/apple/anaconda3/lib/python3.7/site-packages/sklearn/linear_model/_logistic.py:765: ConvergenceWarning: lbfgs failed to converge (status=1):\n",
      "STOP: TOTAL NO. of ITERATIONS REACHED LIMIT.\n",
      "\n",
      "Increase the number of iterations (max_iter) or scale the data as shown in:\n",
      "    https://scikit-learn.org/stable/modules/preprocessing.html\n",
      "Please also refer to the documentation for alternative solver options:\n",
      "    https://scikit-learn.org/stable/modules/linear_model.html#logistic-regression\n",
      "  extra_warning_msg=_LOGISTIC_SOLVER_CONVERGENCE_MSG)\n"
     ]
    },
    {
     "data": {
      "text/plain": [
       "LogisticRegression()"
      ]
     },
     "execution_count": 52,
     "metadata": {},
     "output_type": "execute_result"
    }
   ],
   "source": [
    "logReg.fit(X_train_cp_feat, y_train)"
   ]
  },
  {
   "cell_type": "code",
   "execution_count": 53,
   "metadata": {},
   "outputs": [
    {
     "name": "stderr",
     "output_type": "stream",
     "text": [
      "/Users/apple/anaconda3/lib/python3.7/site-packages/sklearn/linear_model/_logistic.py:765: ConvergenceWarning: lbfgs failed to converge (status=1):\n",
      "STOP: TOTAL NO. of ITERATIONS REACHED LIMIT.\n",
      "\n",
      "Increase the number of iterations (max_iter) or scale the data as shown in:\n",
      "    https://scikit-learn.org/stable/modules/preprocessing.html\n",
      "Please also refer to the documentation for alternative solver options:\n",
      "    https://scikit-learn.org/stable/modules/linear_model.html#logistic-regression\n",
      "  extra_warning_msg=_LOGISTIC_SOLVER_CONVERGENCE_MSG)\n",
      "/Users/apple/anaconda3/lib/python3.7/site-packages/sklearn/linear_model/_logistic.py:765: ConvergenceWarning: lbfgs failed to converge (status=1):\n",
      "STOP: TOTAL NO. of ITERATIONS REACHED LIMIT.\n",
      "\n",
      "Increase the number of iterations (max_iter) or scale the data as shown in:\n",
      "    https://scikit-learn.org/stable/modules/preprocessing.html\n",
      "Please also refer to the documentation for alternative solver options:\n",
      "    https://scikit-learn.org/stable/modules/linear_model.html#logistic-regression\n",
      "  extra_warning_msg=_LOGISTIC_SOLVER_CONVERGENCE_MSG)\n",
      "/Users/apple/anaconda3/lib/python3.7/site-packages/sklearn/linear_model/_logistic.py:765: ConvergenceWarning: lbfgs failed to converge (status=1):\n",
      "STOP: TOTAL NO. of ITERATIONS REACHED LIMIT.\n",
      "\n",
      "Increase the number of iterations (max_iter) or scale the data as shown in:\n",
      "    https://scikit-learn.org/stable/modules/preprocessing.html\n",
      "Please also refer to the documentation for alternative solver options:\n",
      "    https://scikit-learn.org/stable/modules/linear_model.html#logistic-regression\n",
      "  extra_warning_msg=_LOGISTIC_SOLVER_CONVERGENCE_MSG)\n",
      "/Users/apple/anaconda3/lib/python3.7/site-packages/sklearn/linear_model/_logistic.py:765: ConvergenceWarning: lbfgs failed to converge (status=1):\n",
      "STOP: TOTAL NO. of ITERATIONS REACHED LIMIT.\n",
      "\n",
      "Increase the number of iterations (max_iter) or scale the data as shown in:\n",
      "    https://scikit-learn.org/stable/modules/preprocessing.html\n",
      "Please also refer to the documentation for alternative solver options:\n",
      "    https://scikit-learn.org/stable/modules/linear_model.html#logistic-regression\n",
      "  extra_warning_msg=_LOGISTIC_SOLVER_CONVERGENCE_MSG)\n",
      "/Users/apple/anaconda3/lib/python3.7/site-packages/sklearn/linear_model/_logistic.py:765: ConvergenceWarning: lbfgs failed to converge (status=1):\n",
      "STOP: TOTAL NO. of ITERATIONS REACHED LIMIT.\n",
      "\n",
      "Increase the number of iterations (max_iter) or scale the data as shown in:\n",
      "    https://scikit-learn.org/stable/modules/preprocessing.html\n",
      "Please also refer to the documentation for alternative solver options:\n",
      "    https://scikit-learn.org/stable/modules/linear_model.html#logistic-regression\n",
      "  extra_warning_msg=_LOGISTIC_SOLVER_CONVERGENCE_MSG)\n",
      "/Users/apple/anaconda3/lib/python3.7/site-packages/sklearn/linear_model/_logistic.py:765: ConvergenceWarning: lbfgs failed to converge (status=1):\n",
      "STOP: TOTAL NO. of ITERATIONS REACHED LIMIT.\n",
      "\n",
      "Increase the number of iterations (max_iter) or scale the data as shown in:\n",
      "    https://scikit-learn.org/stable/modules/preprocessing.html\n",
      "Please also refer to the documentation for alternative solver options:\n",
      "    https://scikit-learn.org/stable/modules/linear_model.html#logistic-regression\n",
      "  extra_warning_msg=_LOGISTIC_SOLVER_CONVERGENCE_MSG)\n",
      "/Users/apple/anaconda3/lib/python3.7/site-packages/sklearn/linear_model/_logistic.py:765: ConvergenceWarning: lbfgs failed to converge (status=1):\n",
      "STOP: TOTAL NO. of ITERATIONS REACHED LIMIT.\n",
      "\n",
      "Increase the number of iterations (max_iter) or scale the data as shown in:\n",
      "    https://scikit-learn.org/stable/modules/preprocessing.html\n",
      "Please also refer to the documentation for alternative solver options:\n",
      "    https://scikit-learn.org/stable/modules/linear_model.html#logistic-regression\n",
      "  extra_warning_msg=_LOGISTIC_SOLVER_CONVERGENCE_MSG)\n",
      "/Users/apple/anaconda3/lib/python3.7/site-packages/sklearn/linear_model/_logistic.py:765: ConvergenceWarning: lbfgs failed to converge (status=1):\n",
      "STOP: TOTAL NO. of ITERATIONS REACHED LIMIT.\n",
      "\n",
      "Increase the number of iterations (max_iter) or scale the data as shown in:\n",
      "    https://scikit-learn.org/stable/modules/preprocessing.html\n",
      "Please also refer to the documentation for alternative solver options:\n",
      "    https://scikit-learn.org/stable/modules/linear_model.html#logistic-regression\n",
      "  extra_warning_msg=_LOGISTIC_SOLVER_CONVERGENCE_MSG)\n",
      "/Users/apple/anaconda3/lib/python3.7/site-packages/sklearn/linear_model/_logistic.py:765: ConvergenceWarning: lbfgs failed to converge (status=1):\n",
      "STOP: TOTAL NO. of ITERATIONS REACHED LIMIT.\n",
      "\n",
      "Increase the number of iterations (max_iter) or scale the data as shown in:\n",
      "    https://scikit-learn.org/stable/modules/preprocessing.html\n",
      "Please also refer to the documentation for alternative solver options:\n",
      "    https://scikit-learn.org/stable/modules/linear_model.html#logistic-regression\n",
      "  extra_warning_msg=_LOGISTIC_SOLVER_CONVERGENCE_MSG)\n"
     ]
    },
    {
     "name": "stdout",
     "output_type": "stream",
     "text": [
      "Mean fit_time :  0.723 (0.091)\n",
      "Mean score_time :  0.007 (0.003)\n",
      "Mean test_accuracy :  0.865 (0.013)\n",
      "Mean test_precision :  0.624 (0.059)\n",
      "Mean test_recall :  0.543 (0.062)\n",
      "Mean test_f1_score :  0.578 (0.046)\n"
     ]
    },
    {
     "name": "stderr",
     "output_type": "stream",
     "text": [
      "/Users/apple/anaconda3/lib/python3.7/site-packages/sklearn/linear_model/_logistic.py:765: ConvergenceWarning: lbfgs failed to converge (status=1):\n",
      "STOP: TOTAL NO. of ITERATIONS REACHED LIMIT.\n",
      "\n",
      "Increase the number of iterations (max_iter) or scale the data as shown in:\n",
      "    https://scikit-learn.org/stable/modules/preprocessing.html\n",
      "Please also refer to the documentation for alternative solver options:\n",
      "    https://scikit-learn.org/stable/modules/linear_model.html#logistic-regression\n",
      "  extra_warning_msg=_LOGISTIC_SOLVER_CONVERGENCE_MSG)\n"
     ]
    }
   ],
   "source": [
    "kfold_(logReg,X_train_cp_feat,y_train)"
   ]
  },
  {
   "cell_type": "code",
   "execution_count": null,
   "metadata": {},
   "outputs": [],
   "source": []
  },
  {
   "cell_type": "markdown",
   "metadata": {
    "id": "PsdD0clko5pz"
   },
   "source": [
    "## 3.3: Feature selection"
   ]
  },
  {
   "cell_type": "code",
   "execution_count": 58,
   "metadata": {
    "id": "rxX2ERqzpqxi"
   },
   "outputs": [
    {
     "ename": "AttributeError",
     "evalue": "'numpy.ndarray' object has no attribute 'columns'",
     "output_type": "error",
     "traceback": [
      "\u001b[0;31m---------------------------------------------------------------------------\u001b[0m",
      "\u001b[0;31mAttributeError\u001b[0m                            Traceback (most recent call last)",
      "\u001b[0;32m<ipython-input-58-2765bfe146f7>\u001b[0m in \u001b[0;36m<module>\u001b[0;34m\u001b[0m\n\u001b[1;32m      3\u001b[0m \u001b[0mRFE_model\u001b[0m \u001b[0;34m=\u001b[0m \u001b[0mRFE\u001b[0m\u001b[0;34m(\u001b[0m\u001b[0mlogReg\u001b[0m\u001b[0;34m)\u001b[0m\u001b[0;34m\u001b[0m\u001b[0;34m\u001b[0m\u001b[0m\n\u001b[1;32m      4\u001b[0m \u001b[0mRFE_model\u001b[0m \u001b[0;34m=\u001b[0m \u001b[0mRFE_model\u001b[0m\u001b[0;34m.\u001b[0m\u001b[0mfit\u001b[0m\u001b[0;34m(\u001b[0m\u001b[0mX_train_cp_scal\u001b[0m\u001b[0;34m,\u001b[0m \u001b[0my_train\u001b[0m\u001b[0;34m)\u001b[0m\u001b[0;34m\u001b[0m\u001b[0;34m\u001b[0m\u001b[0m\n\u001b[0;32m----> 5\u001b[0;31m \u001b[0mselected_columns\u001b[0m \u001b[0;34m=\u001b[0m \u001b[0mX_train_cp_scal\u001b[0m\u001b[0;34m.\u001b[0m\u001b[0mcolumns\u001b[0m\u001b[0;34m[\u001b[0m\u001b[0mRFE_model\u001b[0m\u001b[0;34m.\u001b[0m\u001b[0msupport_\u001b[0m\u001b[0;34m]\u001b[0m\u001b[0;34m\u001b[0m\u001b[0;34m\u001b[0m\u001b[0m\n\u001b[0m",
      "\u001b[0;31mAttributeError\u001b[0m: 'numpy.ndarray' object has no attribute 'columns'"
     ]
    }
   ],
   "source": [
    "# TODO: Insert code here. Feel free to create additional code cells if necessary.\n",
    "from sklearn.feature_selection import RFE\n",
    "RFE_model = RFE(logReg)\n",
    "RFE_model = RFE_model.fit(X_train_cp_scal, y_train)\n",
    "selected_columns = X_train_cp_scal.columns[RFE_model.support_]"
   ]
  },
  {
   "cell_type": "markdown",
   "metadata": {
    "id": "Ff4l2aNKo5fr"
   },
   "source": [
    "## 3.4: Hyperparameter tuning"
   ]
  },
  {
   "cell_type": "code",
   "execution_count": null,
   "metadata": {
    "id": "7XaxtTWMpIpP"
   },
   "outputs": [],
   "source": [
    "# TODO: Insert code here. Feel free to create additional code cells if necessary."
   ]
  },
  {
   "cell_type": "markdown",
   "metadata": {
    "id": "Te9gGGLEpXRG"
   },
   "source": [
    "## 3.5: Performance estimation"
   ]
  },
  {
   "cell_type": "code",
   "execution_count": null,
   "metadata": {
    "id": "YV_35bEupbfs"
   },
   "outputs": [],
   "source": [
    "# TODO: Insert code here. Feel free to create additional code cells if necessary."
   ]
  },
  {
   "cell_type": "markdown",
   "metadata": {
    "id": "bPiErnUaTQSk"
   },
   "source": [
    "# Question 4: Uncle Steve's Wind Farm"
   ]
  },
  {
   "cell_type": "markdown",
   "metadata": {
    "id": "NzLLQCmKTk9E"
   },
   "source": [
    "## Instructions\n",
    "\n",
    "\n",
    "Uncle Steve has invested in wind. He's built a BIG wind farm with a total of  700 turbines. He's been running the farm for a couple of years now and things are going well. He sells the power generated by the farm to the Kingston government and makes a tidy profit. And, of course, he has been gathering data about the turbines' operations.\n",
    "\n",
    "One area of concern, however, is the cost of maintenece. While the turbines are fairly robust, it seems like one breaks/fails every couple of days. When a turbine fails, it usually costs around \\$20,000 to repair it. Yikes!\n",
    "\n",
    "Currently, Uncle Steve is not doing any preventative maintenance. He just waits until a turbine fails, and then he fixes it. But Uncle Steve has recently learned that if he services a turbine *before* it fails, it will only cost around $2,000. \n",
    "\n",
    "Obviously, there is a potential to save a lot of money here. But first, Uncle Steve would need to figure out *which* turbines are about to fail. Uncle Steve being Uncle Steve, he wants to use ML to build a predictive maintenance model. The model will alert Uncle Steve to potential turbine failures before they happen, giving Uncle Steve a chance to perform an inspection on the turbine and then fix the turbine before it fails. Uncle Steve plans to run the model every morning. For all the turbines that the model predicts will fail, Uncle Steve will order an inspection (which cost a flat \\$500, no matter if the turbine was in good health or not; the \\$500 would not be part of the $2,000 service cost). For the rest of the turbines, Uncle Steve will do nothing.\n",
    "\n",
    "Uncle Steve has used the last few year's worth of operation data to build and assess a model to predict which turbines will fail on any given day. (The data includes useful features like sensor readings, power output, weather, and many more, but those are not important for now.) In fact, he didn't stop there: he built and assessed two models. One model uses using deep learning (in this case, RNNs), and the other uses random forests.\n",
    "\n",
    "He's tuned the bejeebers out of each model and is comfortable that he has found the best-performing version of each. Both models seem really good: both have accuracy scores > 99%. The RNN has better recall, but Uncle Steve is convinced that the random forest model will be better for him since it has better precision. Just to be sure, he has hired you to double check his calculations. \n",
    "\n",
    "**Your task**\n",
    "\n",
    " Which model will save Uncle Steve more money? Justify.\n",
    "\n",
    "\n",
    "In addition to the details above, here is the assessment of each model:\n",
    "\n",
    "- Confusion matrix for the random forest:\n",
    "\n",
    "|         | Predicted Fail           | Predicted No Fail  |\n",
    "| ------------- |------------| -----:|\n",
    "| **Actual Fail**      | 201 | 55 |\n",
    "| **Actual No Fail**   | 50 | 255195 |\n",
    "\n",
    "- Confusion matrix for the RNN:\n",
    "\n",
    "|         | Predicted Fail           | Predicted No Fail  |\n",
    "| ------------- |------------| -----:|\n",
    "| **Actual Fail**      | 226 | 30 |\n",
    "| **Actual No Fail**   | 1200 | 254045 |\n",
    "\n",
    "\n",
    "**Marking**\n",
    "\n",
    "- *Quality*. Response is well-justified and convincing. \n",
    "- *Style*. Response uses proper grammar, spelling, and punctuation. Response is clear and professional. Response is complete, but not overly-verbose. Response follows length guidelines.\n",
    "\n",
    "\n",
    "\n",
    "**Tips**\n",
    "\n",
    "- Figure out how much Uncle Steve is currently (i.e., without any predictive maintinance models) paying in maintenance costs.\n",
    "- Use the information provided above to create a cost matrix.\n",
    "- Use the cost matrix and the confusion matrices to determine the costs of each model.\n",
    "- The cost of an inspection is the same, no matter if the turbine is in good condition or is about to fail.\n",
    "- If the inspection determines that a turbine is about to fail, then it will be fixed right then and there for the additional fee.\n",
    "- For simplicity, assume the inspections are perfect: i.e., that inspecting a turbine will definitely catch any problems that might exist, and won't accidentally flag an otherwise-healthy turbine.\n",
    "\n"
   ]
  },
  {
   "cell_type": "markdown",
   "metadata": {},
   "source": [
    "- Cost of maintenance without the predictive model:\n",
    "For a period of 2 years, with 1 turbine failing every 2 days:\n",
    "    - Number of Days = 365 * 2 (Assuming non-leap years)\n",
    "    - Number of turbines failed = Number of Days/2\n",
    "    - Cost of repair of one turbine = 20,000\n",
    "    \n",
    "    ***Total cost for 2 years of maintenance = ((365 \\* 2) / 2) \\* 20000 = $7,300,000**\n",
    "    \n",
    "\n",
    "- Cost Matrix\n",
    "\n",
    "|         | Predicted Fail           | Predicted No Fail  |\n",
    "| ------------- |------------| -----:|\n",
    "| **Actual Fail**      | 500+2000 | 20000 |\n",
    "| **Actual No Fail**   | 500 | - |\n",
    "\n",
    "- Cost Confusion matrix for the random forest:\n",
    "\n",
    "|         | Predicted Fail           | Predicted No Fail  |\n",
    "| ------------- |------------| -----:|\n",
    "| **Actual Fail**      | 502,500 | 1,100,000 |\n",
    "| **Actual No Fail**   | 25000 | - |\n",
    "\n",
    "- Cost Confusion matrix for the RNN:\n",
    "\n",
    "|         | Predicted Fail           | Predicted No Fail  |\n",
    "| ------------- |------------| -----:|\n",
    "| **Actual Fail**      | 565,000 | 600,000 |\n",
    "| **Actual No Fail**   | 600,000 | - |\n",
    "\n",
    "**Analysis**\n",
    "\n",
    "Random Forest - Precision: 0.785; Recall: 0.80\n",
    "Total cost of repairs - $1,627,500\n",
    "\n",
    "RNN - Precision: 0.88; Recall: 0.15\n",
    "Total cost of repairs - $1,765,000\n",
    "\n",
    "\n",
    "**Best Option?**\n",
    "\n",
    "RF - why?\n"
   ]
  },
  {
   "cell_type": "code",
   "execution_count": null,
   "metadata": {},
   "outputs": [],
   "source": []
  }
 ],
 "metadata": {
  "colab": {
   "collapsed_sections": [],
   "name": "Copy of MMA/GMMA 2022 869 Individual Assignment.ipynb",
   "provenance": []
  },
  "kernelspec": {
   "display_name": "Python 3",
   "language": "python",
   "name": "python3"
  },
  "language_info": {
   "codemirror_mode": {
    "name": "ipython",
    "version": 3
   },
   "file_extension": ".py",
   "mimetype": "text/x-python",
   "name": "python",
   "nbconvert_exporter": "python",
   "pygments_lexer": "ipython3",
   "version": "3.7.7"
  }
 },
 "nbformat": 4,
 "nbformat_minor": 1
}
